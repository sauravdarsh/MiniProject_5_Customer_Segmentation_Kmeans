{
  "nbformat": 4,
  "nbformat_minor": 0,
  "metadata": {
    "colab": {
      "provenance": [],
      "collapsed_sections": [
        "abstract-stocks",
        "7Vu9jhC5jJHs"
      ]
    },
    "kernelspec": {
      "display_name": "Python 3",
      "language": "python",
      "name": "python3"
    },
    "language_info": {
      "codemirror_mode": {
        "name": "ipython",
        "version": 3
      },
      "file_extension": ".py",
      "mimetype": "text/x-python",
      "name": "python",
      "nbconvert_exporter": "python",
      "pygments_lexer": "ipython3",
      "version": "3.6.9"
    }
  },
  "cells": [
    {
      "cell_type": "markdown",
      "metadata": {
        "id": "aUUu9l_JfJ92"
      },
      "source": [
        "# Advanced Certification Program in Computational Data Science\n",
        "\n",
        "##  A program by IISc and TalentSprint\n",
        "\n",
        "### Mini Project Notebook: Customer segmentation using clustering"
      ]
    },
    {
      "cell_type": "markdown",
      "metadata": {
        "id": "SL3yrUc-XrLS"
      },
      "source": [
        "## Learning Objectives"
      ]
    },
    {
      "cell_type": "markdown",
      "metadata": {
        "id": "7jZ3M2hjiyb0"
      },
      "source": [
        "At the end of the experiment, you will be able to :\n",
        "\n",
        "* extract summary level insight from a given customer dataset.\n",
        "\n",
        "* handle the missing data and identify the underlying pattern or structure of the data.\n",
        "\n",
        "* create an unsupervised model that generates the optimum number of segments for the customer base\n",
        "\n",
        "* identify customer segments based on the overall buying behaviour\n"
      ]
    },
    {
      "cell_type": "markdown",
      "metadata": {
        "id": "-EqvTSjZZIUE"
      },
      "source": [
        "## Dataset"
      ]
    },
    {
      "cell_type": "markdown",
      "metadata": {
        "id": "interior-simple"
      },
      "source": [
        "The dataset chosen for this mini project is the Online Retail dataset. It is a transnational data set which contains all the transactions occurring between 01/12/2010 and 09/12/2011 for a UK-based and registered non-store online retail.\n",
        "\n",
        "The dataset contains 541909 records, and each record is made up of 8 fields.\n",
        "\n",
        "To know more about the dataset : [click here](https://archive.ics.uci.edu/ml/datasets/Online+Retail)"
      ]
    },
    {
      "cell_type": "markdown",
      "metadata": {
        "id": "OnFlaGNVFJI3"
      },
      "source": [
        "## Information"
      ]
    },
    {
      "cell_type": "markdown",
      "metadata": {
        "id": "Pyj3MM1li34l"
      },
      "source": [
        "**Clustering** is the task of grouping together a set of objects so that the objects in the same cluster are more similar to each other than to objects in other clusters. Similarity is a measure that reflects the strength of the relationship between two data objects.\n",
        "\n",
        "In the clustering calculation, K-Means is a very popular algorithm. In this analysis, this method is used to cluster the similar data items.\n",
        "\n",
        "In Retail and E-Commerce (B2C), and more broadly in B2B, one of the key elements shaping the business strategy of a firm is understanding of customer behaviour. More specifically, understanding the customers based on different business metrics: how much they spend (revenue), how often they spend (frequency), are they new or existing customers, what are their favorite products, etc... Such understanding in turn helps direct marketing, sales, account management and product teams to support customers on a personalized level and improve the product offering.\n",
        "\n",
        "Furthermore, segmenting customers into different categories based on similar/cyclical buying pattern over a period of 1 year helps the retail shops manage their inventory better, thereby lowering costs and raising revenues by placing the orders in sync with the buying cycles."
      ]
    },
    {
      "cell_type": "markdown",
      "metadata": {
        "id": "eY8QnQQ_i8oy"
      },
      "source": [
        "## Problem Statement"
      ]
    },
    {
      "cell_type": "markdown",
      "metadata": {
        "id": "MhyOGhrYi8oz"
      },
      "source": [
        "Perform customer segmentation for an Online Retail using an Unsupervised Clustering technique"
      ]
    },
    {
      "cell_type": "markdown",
      "metadata": {
        "id": "operating-latter"
      },
      "source": [
        "## Grading = 10 Points"
      ]
    },
    {
      "cell_type": "markdown",
      "metadata": {
        "id": "abstract-stocks"
      },
      "source": [
        "### Import Required packages"
      ]
    },
    {
      "cell_type": "code",
      "metadata": {
        "id": "advisory-knowing"
      },
      "source": [
        "from matplotlib import pyplot as plt\n",
        "import numpy as np\n",
        "import pandas as pd\n",
        "import seaborn as sns\n",
        "import scipy\n",
        "from sklearn.cluster import KMeans\n",
        "from sklearn.model_selection import train_test_split\n",
        "from sklearn.preprocessing import StandardScaler\n",
        "from sklearn.cluster import DBSCAN"
      ],
      "execution_count": 1,
      "outputs": []
    },
    {
      "cell_type": "markdown",
      "metadata": {
        "id": "bound-basement"
      },
      "source": [
        "## Data Wrangling"
      ]
    },
    {
      "cell_type": "code",
      "metadata": {
        "id": "PXJixnAljGfN",
        "cellView": "form"
      },
      "source": [
        "#@title Download the data\n",
        "!wget -qq https://cdn.iisc.talentsprint.com/CDS/MiniProjects/Online_Retail.zip\n",
        "!unzip -qq Online_Retail.zip"
      ],
      "execution_count": 2,
      "outputs": []
    },
    {
      "cell_type": "markdown",
      "metadata": {
        "id": "7Vu9jhC5jJHs"
      },
      "source": [
        "## Load the data"
      ]
    },
    {
      "cell_type": "code",
      "metadata": {
        "id": "RdvmgyZRdZup"
      },
      "source": [
        "df = pd.read_csv(\"Online_Retail_Train.csv\")"
      ],
      "execution_count": 3,
      "outputs": []
    },
    {
      "cell_type": "markdown",
      "metadata": {
        "id": "vtV_KWBLUzRk"
      },
      "source": [
        "## Data Pre-processing (2 points)"
      ]
    },
    {
      "cell_type": "markdown",
      "metadata": {
        "id": "VcCVvb_RjPxy"
      },
      "source": [
        "Explore the dataset by performing the following operations:\n",
        "\n",
        "* There is a lot of redundant data. Identify such data and take appropriate action.\n",
        "\n",
        "  **Hint:** refer to this [link](https://pandas.pydata.org/pandas-docs/stable/reference/api/pandas.DataFrame.drop_duplicates.html)\n",
        "\n",
        "* Most Invoices appear as normal transactions with positive quantity and prices, but there are some prefixed with \"C\" or \"A\" which denote different transaction types. Invoice starting with C represents cancelled order and A represents the Adjusted. Identify such data and take appropriate action.\n",
        "\n",
        "  **Hint:** Check the negative values in Quantity column for all cancelled orders\n",
        "\n",
        "* Handle the null values by dropping or filling with appropriate mean\n",
        "\n",
        "\n",
        "* Some of the transactions based on the `StockCode` variable are not actually products, but representing the costs or fees regarding to the post or bank or other tansactions. Find such data and handle it accordingly.\n",
        "\n",
        "  Hint:\n",
        "    - The transaction with `'POST' 'PADS' 'M' 'DOT' 'C2' 'BANK CHARGES'` as their `StockCodes` are considered as irrelevant transactions.\n",
        "\n",
        "* Identify the outliers in the UntiPrice and Quantity and handle them accordingly.\n",
        "\n",
        "  **Hint:** [link](https://kanoki.org/2020/04/23/how-to-remove-outliers-in-python/)\n",
        "\n",
        "* Create a DayOfWeek column using `InvoiceDate`, Hint: pd.to_datetime()\n",
        "\n",
        "**Note:** Perform all the above operations using a function to reuse and apply the same for test data."
      ]
    },
    {
      "cell_type": "code",
      "metadata": {
        "id": "Lj5VPXN1dZuq",
        "outputId": "d03c23a6-50b9-4a69-8796-da5574062e8c",
        "colab": {
          "base_uri": "https://localhost:8080/"
        }
      },
      "source": [
        "df.info()"
      ],
      "execution_count": null,
      "outputs": [
        {
          "output_type": "stream",
          "name": "stdout",
          "text": [
            "<class 'pandas.core.frame.DataFrame'>\n",
            "RangeIndex: 514813 entries, 0 to 514812\n",
            "Data columns (total 8 columns):\n",
            " #   Column       Non-Null Count   Dtype  \n",
            "---  ------       --------------   -----  \n",
            " 0   InvoiceNo    514813 non-null  object \n",
            " 1   StockCode    514813 non-null  object \n",
            " 2   Description  513428 non-null  object \n",
            " 3   Quantity     514813 non-null  int64  \n",
            " 4   InvoiceDate  514813 non-null  object \n",
            " 5   UnitPrice    514813 non-null  float64\n",
            " 6   CustomerID   386550 non-null  float64\n",
            " 7   Country      514813 non-null  object \n",
            "dtypes: float64(2), int64(1), object(5)\n",
            "memory usage: 31.4+ MB\n"
          ]
        }
      ]
    },
    {
      "cell_type": "code",
      "source": [
        "# Count the missing values in each column\n",
        "missing_values = df.isnull().sum()\n",
        "\n",
        "# Print the count of missing values\n",
        "print(missing_values)"
      ],
      "metadata": {
        "id": "fBDBbkvO3MGT",
        "outputId": "9be38121-23d7-4852-b996-c7e3046e9ea2",
        "colab": {
          "base_uri": "https://localhost:8080/"
        }
      },
      "execution_count": 4,
      "outputs": [
        {
          "output_type": "stream",
          "name": "stdout",
          "text": [
            "InvoiceNo           0\n",
            "StockCode           0\n",
            "Description      1385\n",
            "Quantity            0\n",
            "InvoiceDate         0\n",
            "UnitPrice           0\n",
            "CustomerID     128263\n",
            "Country             0\n",
            "dtype: int64\n"
          ]
        }
      ]
    },
    {
      "cell_type": "code",
      "source": [
        "df1 = df.drop_duplicates()"
      ],
      "metadata": {
        "id": "R2FUvNTH5c4Q"
      },
      "execution_count": 5,
      "outputs": []
    },
    {
      "cell_type": "code",
      "source": [
        "df1.head(5)"
      ],
      "metadata": {
        "id": "MkdjERIc5hhH",
        "outputId": "72f1169b-5bc9-4757-9d64-6ce5c4a6431c",
        "colab": {
          "base_uri": "https://localhost:8080/",
          "height": 206
        }
      },
      "execution_count": null,
      "outputs": [
        {
          "output_type": "execute_result",
          "data": {
            "text/plain": [
              "  InvoiceNo StockCode                         Description  Quantity  \\\n",
              "0    579427     22636  CHILDS BREAKFAST SET CIRCUS PARADE         2   \n",
              "1    554092     21916     SET 12 RETRO WHITE CHALK STICKS        24   \n",
              "2    577774     84692         BOX OF 24 COCKTAIL PARASOLS         6   \n",
              "3   C571196     23350             ROLL WRAP VINTAGE SPOT        -12   \n",
              "4    546649    84509a     SET OF 4 ENGLISH ROSE PLACEMATS         1   \n",
              "\n",
              "           InvoiceDate  UnitPrice  CustomerID         Country  \n",
              "0  2011-11-29 13:04:00       8.50     16479.0  United Kingdom  \n",
              "1  2011-05-22 12:41:00       0.42     17176.0  United Kingdom  \n",
              "2  2011-11-21 15:57:00       0.42     16712.0  United Kingdom  \n",
              "3  2011-10-14 12:02:00       1.25         NaN  United Kingdom  \n",
              "4  2011-03-15 14:17:00       7.46         NaN  United Kingdom  "
            ],
            "text/html": [
              "\n",
              "  <div id=\"df-5dee54f2-8b4b-408b-8865-d4fb76a0123e\" class=\"colab-df-container\">\n",
              "    <div>\n",
              "<style scoped>\n",
              "    .dataframe tbody tr th:only-of-type {\n",
              "        vertical-align: middle;\n",
              "    }\n",
              "\n",
              "    .dataframe tbody tr th {\n",
              "        vertical-align: top;\n",
              "    }\n",
              "\n",
              "    .dataframe thead th {\n",
              "        text-align: right;\n",
              "    }\n",
              "</style>\n",
              "<table border=\"1\" class=\"dataframe\">\n",
              "  <thead>\n",
              "    <tr style=\"text-align: right;\">\n",
              "      <th></th>\n",
              "      <th>InvoiceNo</th>\n",
              "      <th>StockCode</th>\n",
              "      <th>Description</th>\n",
              "      <th>Quantity</th>\n",
              "      <th>InvoiceDate</th>\n",
              "      <th>UnitPrice</th>\n",
              "      <th>CustomerID</th>\n",
              "      <th>Country</th>\n",
              "    </tr>\n",
              "  </thead>\n",
              "  <tbody>\n",
              "    <tr>\n",
              "      <th>0</th>\n",
              "      <td>579427</td>\n",
              "      <td>22636</td>\n",
              "      <td>CHILDS BREAKFAST SET CIRCUS PARADE</td>\n",
              "      <td>2</td>\n",
              "      <td>2011-11-29 13:04:00</td>\n",
              "      <td>8.50</td>\n",
              "      <td>16479.0</td>\n",
              "      <td>United Kingdom</td>\n",
              "    </tr>\n",
              "    <tr>\n",
              "      <th>1</th>\n",
              "      <td>554092</td>\n",
              "      <td>21916</td>\n",
              "      <td>SET 12 RETRO WHITE CHALK STICKS</td>\n",
              "      <td>24</td>\n",
              "      <td>2011-05-22 12:41:00</td>\n",
              "      <td>0.42</td>\n",
              "      <td>17176.0</td>\n",
              "      <td>United Kingdom</td>\n",
              "    </tr>\n",
              "    <tr>\n",
              "      <th>2</th>\n",
              "      <td>577774</td>\n",
              "      <td>84692</td>\n",
              "      <td>BOX OF 24 COCKTAIL PARASOLS</td>\n",
              "      <td>6</td>\n",
              "      <td>2011-11-21 15:57:00</td>\n",
              "      <td>0.42</td>\n",
              "      <td>16712.0</td>\n",
              "      <td>United Kingdom</td>\n",
              "    </tr>\n",
              "    <tr>\n",
              "      <th>3</th>\n",
              "      <td>C571196</td>\n",
              "      <td>23350</td>\n",
              "      <td>ROLL WRAP VINTAGE SPOT</td>\n",
              "      <td>-12</td>\n",
              "      <td>2011-10-14 12:02:00</td>\n",
              "      <td>1.25</td>\n",
              "      <td>NaN</td>\n",
              "      <td>United Kingdom</td>\n",
              "    </tr>\n",
              "    <tr>\n",
              "      <th>4</th>\n",
              "      <td>546649</td>\n",
              "      <td>84509a</td>\n",
              "      <td>SET OF 4 ENGLISH ROSE PLACEMATS</td>\n",
              "      <td>1</td>\n",
              "      <td>2011-03-15 14:17:00</td>\n",
              "      <td>7.46</td>\n",
              "      <td>NaN</td>\n",
              "      <td>United Kingdom</td>\n",
              "    </tr>\n",
              "  </tbody>\n",
              "</table>\n",
              "</div>\n",
              "    <div class=\"colab-df-buttons\">\n",
              "\n",
              "  <div class=\"colab-df-container\">\n",
              "    <button class=\"colab-df-convert\" onclick=\"convertToInteractive('df-5dee54f2-8b4b-408b-8865-d4fb76a0123e')\"\n",
              "            title=\"Convert this dataframe to an interactive table.\"\n",
              "            style=\"display:none;\">\n",
              "\n",
              "  <svg xmlns=\"http://www.w3.org/2000/svg\" height=\"24px\" viewBox=\"0 -960 960 960\">\n",
              "    <path d=\"M120-120v-720h720v720H120Zm60-500h600v-160H180v160Zm220 220h160v-160H400v160Zm0 220h160v-160H400v160ZM180-400h160v-160H180v160Zm440 0h160v-160H620v160ZM180-180h160v-160H180v160Zm440 0h160v-160H620v160Z\"/>\n",
              "  </svg>\n",
              "    </button>\n",
              "\n",
              "  <style>\n",
              "    .colab-df-container {\n",
              "      display:flex;\n",
              "      gap: 12px;\n",
              "    }\n",
              "\n",
              "    .colab-df-convert {\n",
              "      background-color: #E8F0FE;\n",
              "      border: none;\n",
              "      border-radius: 50%;\n",
              "      cursor: pointer;\n",
              "      display: none;\n",
              "      fill: #1967D2;\n",
              "      height: 32px;\n",
              "      padding: 0 0 0 0;\n",
              "      width: 32px;\n",
              "    }\n",
              "\n",
              "    .colab-df-convert:hover {\n",
              "      background-color: #E2EBFA;\n",
              "      box-shadow: 0px 1px 2px rgba(60, 64, 67, 0.3), 0px 1px 3px 1px rgba(60, 64, 67, 0.15);\n",
              "      fill: #174EA6;\n",
              "    }\n",
              "\n",
              "    .colab-df-buttons div {\n",
              "      margin-bottom: 4px;\n",
              "    }\n",
              "\n",
              "    [theme=dark] .colab-df-convert {\n",
              "      background-color: #3B4455;\n",
              "      fill: #D2E3FC;\n",
              "    }\n",
              "\n",
              "    [theme=dark] .colab-df-convert:hover {\n",
              "      background-color: #434B5C;\n",
              "      box-shadow: 0px 1px 3px 1px rgba(0, 0, 0, 0.15);\n",
              "      filter: drop-shadow(0px 1px 2px rgba(0, 0, 0, 0.3));\n",
              "      fill: #FFFFFF;\n",
              "    }\n",
              "  </style>\n",
              "\n",
              "    <script>\n",
              "      const buttonEl =\n",
              "        document.querySelector('#df-5dee54f2-8b4b-408b-8865-d4fb76a0123e button.colab-df-convert');\n",
              "      buttonEl.style.display =\n",
              "        google.colab.kernel.accessAllowed ? 'block' : 'none';\n",
              "\n",
              "      async function convertToInteractive(key) {\n",
              "        const element = document.querySelector('#df-5dee54f2-8b4b-408b-8865-d4fb76a0123e');\n",
              "        const dataTable =\n",
              "          await google.colab.kernel.invokeFunction('convertToInteractive',\n",
              "                                                    [key], {});\n",
              "        if (!dataTable) return;\n",
              "\n",
              "        const docLinkHtml = 'Like what you see? Visit the ' +\n",
              "          '<a target=\"_blank\" href=https://colab.research.google.com/notebooks/data_table.ipynb>data table notebook</a>'\n",
              "          + ' to learn more about interactive tables.';\n",
              "        element.innerHTML = '';\n",
              "        dataTable['output_type'] = 'display_data';\n",
              "        await google.colab.output.renderOutput(dataTable, element);\n",
              "        const docLink = document.createElement('div');\n",
              "        docLink.innerHTML = docLinkHtml;\n",
              "        element.appendChild(docLink);\n",
              "      }\n",
              "    </script>\n",
              "  </div>\n",
              "\n",
              "\n",
              "<div id=\"df-f0fe788e-5e0d-4cea-aee0-ac6927a62d16\">\n",
              "  <button class=\"colab-df-quickchart\" onclick=\"quickchart('df-f0fe788e-5e0d-4cea-aee0-ac6927a62d16')\"\n",
              "            title=\"Suggest charts\"\n",
              "            style=\"display:none;\">\n",
              "\n",
              "<svg xmlns=\"http://www.w3.org/2000/svg\" height=\"24px\"viewBox=\"0 0 24 24\"\n",
              "     width=\"24px\">\n",
              "    <g>\n",
              "        <path d=\"M19 3H5c-1.1 0-2 .9-2 2v14c0 1.1.9 2 2 2h14c1.1 0 2-.9 2-2V5c0-1.1-.9-2-2-2zM9 17H7v-7h2v7zm4 0h-2V7h2v10zm4 0h-2v-4h2v4z\"/>\n",
              "    </g>\n",
              "</svg>\n",
              "  </button>\n",
              "\n",
              "<style>\n",
              "  .colab-df-quickchart {\n",
              "      --bg-color: #E8F0FE;\n",
              "      --fill-color: #1967D2;\n",
              "      --hover-bg-color: #E2EBFA;\n",
              "      --hover-fill-color: #174EA6;\n",
              "      --disabled-fill-color: #AAA;\n",
              "      --disabled-bg-color: #DDD;\n",
              "  }\n",
              "\n",
              "  [theme=dark] .colab-df-quickchart {\n",
              "      --bg-color: #3B4455;\n",
              "      --fill-color: #D2E3FC;\n",
              "      --hover-bg-color: #434B5C;\n",
              "      --hover-fill-color: #FFFFFF;\n",
              "      --disabled-bg-color: #3B4455;\n",
              "      --disabled-fill-color: #666;\n",
              "  }\n",
              "\n",
              "  .colab-df-quickchart {\n",
              "    background-color: var(--bg-color);\n",
              "    border: none;\n",
              "    border-radius: 50%;\n",
              "    cursor: pointer;\n",
              "    display: none;\n",
              "    fill: var(--fill-color);\n",
              "    height: 32px;\n",
              "    padding: 0;\n",
              "    width: 32px;\n",
              "  }\n",
              "\n",
              "  .colab-df-quickchart:hover {\n",
              "    background-color: var(--hover-bg-color);\n",
              "    box-shadow: 0 1px 2px rgba(60, 64, 67, 0.3), 0 1px 3px 1px rgba(60, 64, 67, 0.15);\n",
              "    fill: var(--button-hover-fill-color);\n",
              "  }\n",
              "\n",
              "  .colab-df-quickchart-complete:disabled,\n",
              "  .colab-df-quickchart-complete:disabled:hover {\n",
              "    background-color: var(--disabled-bg-color);\n",
              "    fill: var(--disabled-fill-color);\n",
              "    box-shadow: none;\n",
              "  }\n",
              "\n",
              "  .colab-df-spinner {\n",
              "    border: 2px solid var(--fill-color);\n",
              "    border-color: transparent;\n",
              "    border-bottom-color: var(--fill-color);\n",
              "    animation:\n",
              "      spin 1s steps(1) infinite;\n",
              "  }\n",
              "\n",
              "  @keyframes spin {\n",
              "    0% {\n",
              "      border-color: transparent;\n",
              "      border-bottom-color: var(--fill-color);\n",
              "      border-left-color: var(--fill-color);\n",
              "    }\n",
              "    20% {\n",
              "      border-color: transparent;\n",
              "      border-left-color: var(--fill-color);\n",
              "      border-top-color: var(--fill-color);\n",
              "    }\n",
              "    30% {\n",
              "      border-color: transparent;\n",
              "      border-left-color: var(--fill-color);\n",
              "      border-top-color: var(--fill-color);\n",
              "      border-right-color: var(--fill-color);\n",
              "    }\n",
              "    40% {\n",
              "      border-color: transparent;\n",
              "      border-right-color: var(--fill-color);\n",
              "      border-top-color: var(--fill-color);\n",
              "    }\n",
              "    60% {\n",
              "      border-color: transparent;\n",
              "      border-right-color: var(--fill-color);\n",
              "    }\n",
              "    80% {\n",
              "      border-color: transparent;\n",
              "      border-right-color: var(--fill-color);\n",
              "      border-bottom-color: var(--fill-color);\n",
              "    }\n",
              "    90% {\n",
              "      border-color: transparent;\n",
              "      border-bottom-color: var(--fill-color);\n",
              "    }\n",
              "  }\n",
              "</style>\n",
              "\n",
              "  <script>\n",
              "    async function quickchart(key) {\n",
              "      const quickchartButtonEl =\n",
              "        document.querySelector('#' + key + ' button');\n",
              "      quickchartButtonEl.disabled = true;  // To prevent multiple clicks.\n",
              "      quickchartButtonEl.classList.add('colab-df-spinner');\n",
              "      try {\n",
              "        const charts = await google.colab.kernel.invokeFunction(\n",
              "            'suggestCharts', [key], {});\n",
              "      } catch (error) {\n",
              "        console.error('Error during call to suggestCharts:', error);\n",
              "      }\n",
              "      quickchartButtonEl.classList.remove('colab-df-spinner');\n",
              "      quickchartButtonEl.classList.add('colab-df-quickchart-complete');\n",
              "    }\n",
              "    (() => {\n",
              "      let quickchartButtonEl =\n",
              "        document.querySelector('#df-f0fe788e-5e0d-4cea-aee0-ac6927a62d16 button');\n",
              "      quickchartButtonEl.style.display =\n",
              "        google.colab.kernel.accessAllowed ? 'block' : 'none';\n",
              "    })();\n",
              "  </script>\n",
              "</div>\n",
              "\n",
              "    </div>\n",
              "  </div>\n"
            ],
            "application/vnd.google.colaboratory.intrinsic+json": {
              "type": "dataframe",
              "variable_name": "df1"
            }
          },
          "metadata": {},
          "execution_count": 8
        }
      ]
    },
    {
      "cell_type": "code",
      "source": [
        "search_results = df1['InvoiceNo'].str.contains('A')\n",
        "df1[search_results]"
      ],
      "metadata": {
        "id": "3nNviKf96pRB",
        "outputId": "d64a69da-3133-486a-f301-e2de5c89c9be",
        "colab": {
          "base_uri": "https://localhost:8080/",
          "height": 143
        }
      },
      "execution_count": null,
      "outputs": [
        {
          "output_type": "execute_result",
          "data": {
            "text/plain": [
              "       InvoiceNo StockCode      Description  Quantity          InvoiceDate  \\\n",
              "51050    A563187         B  Adjust bad debt         1  2011-08-12 14:52:00   \n",
              "279008   A563185         B  Adjust bad debt         1  2011-08-12 14:50:00   \n",
              "405078   A563186         B  Adjust bad debt         1  2011-08-12 14:51:00   \n",
              "\n",
              "        UnitPrice  CustomerID         Country  \n",
              "51050   -11062.06         NaN  United Kingdom  \n",
              "279008   11062.06         NaN  United Kingdom  \n",
              "405078  -11062.06         NaN  United Kingdom  "
            ],
            "text/html": [
              "\n",
              "  <div id=\"df-9291ada1-4379-410c-8b0a-29375c1227ab\" class=\"colab-df-container\">\n",
              "    <div>\n",
              "<style scoped>\n",
              "    .dataframe tbody tr th:only-of-type {\n",
              "        vertical-align: middle;\n",
              "    }\n",
              "\n",
              "    .dataframe tbody tr th {\n",
              "        vertical-align: top;\n",
              "    }\n",
              "\n",
              "    .dataframe thead th {\n",
              "        text-align: right;\n",
              "    }\n",
              "</style>\n",
              "<table border=\"1\" class=\"dataframe\">\n",
              "  <thead>\n",
              "    <tr style=\"text-align: right;\">\n",
              "      <th></th>\n",
              "      <th>InvoiceNo</th>\n",
              "      <th>StockCode</th>\n",
              "      <th>Description</th>\n",
              "      <th>Quantity</th>\n",
              "      <th>InvoiceDate</th>\n",
              "      <th>UnitPrice</th>\n",
              "      <th>CustomerID</th>\n",
              "      <th>Country</th>\n",
              "    </tr>\n",
              "  </thead>\n",
              "  <tbody>\n",
              "    <tr>\n",
              "      <th>51050</th>\n",
              "      <td>A563187</td>\n",
              "      <td>B</td>\n",
              "      <td>Adjust bad debt</td>\n",
              "      <td>1</td>\n",
              "      <td>2011-08-12 14:52:00</td>\n",
              "      <td>-11062.06</td>\n",
              "      <td>NaN</td>\n",
              "      <td>United Kingdom</td>\n",
              "    </tr>\n",
              "    <tr>\n",
              "      <th>279008</th>\n",
              "      <td>A563185</td>\n",
              "      <td>B</td>\n",
              "      <td>Adjust bad debt</td>\n",
              "      <td>1</td>\n",
              "      <td>2011-08-12 14:50:00</td>\n",
              "      <td>11062.06</td>\n",
              "      <td>NaN</td>\n",
              "      <td>United Kingdom</td>\n",
              "    </tr>\n",
              "    <tr>\n",
              "      <th>405078</th>\n",
              "      <td>A563186</td>\n",
              "      <td>B</td>\n",
              "      <td>Adjust bad debt</td>\n",
              "      <td>1</td>\n",
              "      <td>2011-08-12 14:51:00</td>\n",
              "      <td>-11062.06</td>\n",
              "      <td>NaN</td>\n",
              "      <td>United Kingdom</td>\n",
              "    </tr>\n",
              "  </tbody>\n",
              "</table>\n",
              "</div>\n",
              "    <div class=\"colab-df-buttons\">\n",
              "\n",
              "  <div class=\"colab-df-container\">\n",
              "    <button class=\"colab-df-convert\" onclick=\"convertToInteractive('df-9291ada1-4379-410c-8b0a-29375c1227ab')\"\n",
              "            title=\"Convert this dataframe to an interactive table.\"\n",
              "            style=\"display:none;\">\n",
              "\n",
              "  <svg xmlns=\"http://www.w3.org/2000/svg\" height=\"24px\" viewBox=\"0 -960 960 960\">\n",
              "    <path d=\"M120-120v-720h720v720H120Zm60-500h600v-160H180v160Zm220 220h160v-160H400v160Zm0 220h160v-160H400v160ZM180-400h160v-160H180v160Zm440 0h160v-160H620v160ZM180-180h160v-160H180v160Zm440 0h160v-160H620v160Z\"/>\n",
              "  </svg>\n",
              "    </button>\n",
              "\n",
              "  <style>\n",
              "    .colab-df-container {\n",
              "      display:flex;\n",
              "      gap: 12px;\n",
              "    }\n",
              "\n",
              "    .colab-df-convert {\n",
              "      background-color: #E8F0FE;\n",
              "      border: none;\n",
              "      border-radius: 50%;\n",
              "      cursor: pointer;\n",
              "      display: none;\n",
              "      fill: #1967D2;\n",
              "      height: 32px;\n",
              "      padding: 0 0 0 0;\n",
              "      width: 32px;\n",
              "    }\n",
              "\n",
              "    .colab-df-convert:hover {\n",
              "      background-color: #E2EBFA;\n",
              "      box-shadow: 0px 1px 2px rgba(60, 64, 67, 0.3), 0px 1px 3px 1px rgba(60, 64, 67, 0.15);\n",
              "      fill: #174EA6;\n",
              "    }\n",
              "\n",
              "    .colab-df-buttons div {\n",
              "      margin-bottom: 4px;\n",
              "    }\n",
              "\n",
              "    [theme=dark] .colab-df-convert {\n",
              "      background-color: #3B4455;\n",
              "      fill: #D2E3FC;\n",
              "    }\n",
              "\n",
              "    [theme=dark] .colab-df-convert:hover {\n",
              "      background-color: #434B5C;\n",
              "      box-shadow: 0px 1px 3px 1px rgba(0, 0, 0, 0.15);\n",
              "      filter: drop-shadow(0px 1px 2px rgba(0, 0, 0, 0.3));\n",
              "      fill: #FFFFFF;\n",
              "    }\n",
              "  </style>\n",
              "\n",
              "    <script>\n",
              "      const buttonEl =\n",
              "        document.querySelector('#df-9291ada1-4379-410c-8b0a-29375c1227ab button.colab-df-convert');\n",
              "      buttonEl.style.display =\n",
              "        google.colab.kernel.accessAllowed ? 'block' : 'none';\n",
              "\n",
              "      async function convertToInteractive(key) {\n",
              "        const element = document.querySelector('#df-9291ada1-4379-410c-8b0a-29375c1227ab');\n",
              "        const dataTable =\n",
              "          await google.colab.kernel.invokeFunction('convertToInteractive',\n",
              "                                                    [key], {});\n",
              "        if (!dataTable) return;\n",
              "\n",
              "        const docLinkHtml = 'Like what you see? Visit the ' +\n",
              "          '<a target=\"_blank\" href=https://colab.research.google.com/notebooks/data_table.ipynb>data table notebook</a>'\n",
              "          + ' to learn more about interactive tables.';\n",
              "        element.innerHTML = '';\n",
              "        dataTable['output_type'] = 'display_data';\n",
              "        await google.colab.output.renderOutput(dataTable, element);\n",
              "        const docLink = document.createElement('div');\n",
              "        docLink.innerHTML = docLinkHtml;\n",
              "        element.appendChild(docLink);\n",
              "      }\n",
              "    </script>\n",
              "  </div>\n",
              "\n",
              "\n",
              "<div id=\"df-65800815-fcdf-4f20-920e-0bb9bc8fa657\">\n",
              "  <button class=\"colab-df-quickchart\" onclick=\"quickchart('df-65800815-fcdf-4f20-920e-0bb9bc8fa657')\"\n",
              "            title=\"Suggest charts\"\n",
              "            style=\"display:none;\">\n",
              "\n",
              "<svg xmlns=\"http://www.w3.org/2000/svg\" height=\"24px\"viewBox=\"0 0 24 24\"\n",
              "     width=\"24px\">\n",
              "    <g>\n",
              "        <path d=\"M19 3H5c-1.1 0-2 .9-2 2v14c0 1.1.9 2 2 2h14c1.1 0 2-.9 2-2V5c0-1.1-.9-2-2-2zM9 17H7v-7h2v7zm4 0h-2V7h2v10zm4 0h-2v-4h2v4z\"/>\n",
              "    </g>\n",
              "</svg>\n",
              "  </button>\n",
              "\n",
              "<style>\n",
              "  .colab-df-quickchart {\n",
              "      --bg-color: #E8F0FE;\n",
              "      --fill-color: #1967D2;\n",
              "      --hover-bg-color: #E2EBFA;\n",
              "      --hover-fill-color: #174EA6;\n",
              "      --disabled-fill-color: #AAA;\n",
              "      --disabled-bg-color: #DDD;\n",
              "  }\n",
              "\n",
              "  [theme=dark] .colab-df-quickchart {\n",
              "      --bg-color: #3B4455;\n",
              "      --fill-color: #D2E3FC;\n",
              "      --hover-bg-color: #434B5C;\n",
              "      --hover-fill-color: #FFFFFF;\n",
              "      --disabled-bg-color: #3B4455;\n",
              "      --disabled-fill-color: #666;\n",
              "  }\n",
              "\n",
              "  .colab-df-quickchart {\n",
              "    background-color: var(--bg-color);\n",
              "    border: none;\n",
              "    border-radius: 50%;\n",
              "    cursor: pointer;\n",
              "    display: none;\n",
              "    fill: var(--fill-color);\n",
              "    height: 32px;\n",
              "    padding: 0;\n",
              "    width: 32px;\n",
              "  }\n",
              "\n",
              "  .colab-df-quickchart:hover {\n",
              "    background-color: var(--hover-bg-color);\n",
              "    box-shadow: 0 1px 2px rgba(60, 64, 67, 0.3), 0 1px 3px 1px rgba(60, 64, 67, 0.15);\n",
              "    fill: var(--button-hover-fill-color);\n",
              "  }\n",
              "\n",
              "  .colab-df-quickchart-complete:disabled,\n",
              "  .colab-df-quickchart-complete:disabled:hover {\n",
              "    background-color: var(--disabled-bg-color);\n",
              "    fill: var(--disabled-fill-color);\n",
              "    box-shadow: none;\n",
              "  }\n",
              "\n",
              "  .colab-df-spinner {\n",
              "    border: 2px solid var(--fill-color);\n",
              "    border-color: transparent;\n",
              "    border-bottom-color: var(--fill-color);\n",
              "    animation:\n",
              "      spin 1s steps(1) infinite;\n",
              "  }\n",
              "\n",
              "  @keyframes spin {\n",
              "    0% {\n",
              "      border-color: transparent;\n",
              "      border-bottom-color: var(--fill-color);\n",
              "      border-left-color: var(--fill-color);\n",
              "    }\n",
              "    20% {\n",
              "      border-color: transparent;\n",
              "      border-left-color: var(--fill-color);\n",
              "      border-top-color: var(--fill-color);\n",
              "    }\n",
              "    30% {\n",
              "      border-color: transparent;\n",
              "      border-left-color: var(--fill-color);\n",
              "      border-top-color: var(--fill-color);\n",
              "      border-right-color: var(--fill-color);\n",
              "    }\n",
              "    40% {\n",
              "      border-color: transparent;\n",
              "      border-right-color: var(--fill-color);\n",
              "      border-top-color: var(--fill-color);\n",
              "    }\n",
              "    60% {\n",
              "      border-color: transparent;\n",
              "      border-right-color: var(--fill-color);\n",
              "    }\n",
              "    80% {\n",
              "      border-color: transparent;\n",
              "      border-right-color: var(--fill-color);\n",
              "      border-bottom-color: var(--fill-color);\n",
              "    }\n",
              "    90% {\n",
              "      border-color: transparent;\n",
              "      border-bottom-color: var(--fill-color);\n",
              "    }\n",
              "  }\n",
              "</style>\n",
              "\n",
              "  <script>\n",
              "    async function quickchart(key) {\n",
              "      const quickchartButtonEl =\n",
              "        document.querySelector('#' + key + ' button');\n",
              "      quickchartButtonEl.disabled = true;  // To prevent multiple clicks.\n",
              "      quickchartButtonEl.classList.add('colab-df-spinner');\n",
              "      try {\n",
              "        const charts = await google.colab.kernel.invokeFunction(\n",
              "            'suggestCharts', [key], {});\n",
              "      } catch (error) {\n",
              "        console.error('Error during call to suggestCharts:', error);\n",
              "      }\n",
              "      quickchartButtonEl.classList.remove('colab-df-spinner');\n",
              "      quickchartButtonEl.classList.add('colab-df-quickchart-complete');\n",
              "    }\n",
              "    (() => {\n",
              "      let quickchartButtonEl =\n",
              "        document.querySelector('#df-65800815-fcdf-4f20-920e-0bb9bc8fa657 button');\n",
              "      quickchartButtonEl.style.display =\n",
              "        google.colab.kernel.accessAllowed ? 'block' : 'none';\n",
              "    })();\n",
              "  </script>\n",
              "</div>\n",
              "\n",
              "    </div>\n",
              "  </div>\n"
            ],
            "application/vnd.google.colaboratory.intrinsic+json": {
              "type": "dataframe",
              "repr_error": "0"
            }
          },
          "metadata": {},
          "execution_count": 6
        }
      ]
    },
    {
      "cell_type": "code",
      "source": [
        "search_results = df1['InvoiceNo'].str.contains('C')\n",
        "df1[search_results]"
      ],
      "metadata": {
        "id": "nEPp34uu7gGm",
        "outputId": "92656ae1-4435-4596-a6c2-c2f7f76da43c",
        "colab": {
          "base_uri": "https://localhost:8080/",
          "height": 423
        }
      },
      "execution_count": null,
      "outputs": [
        {
          "output_type": "execute_result",
          "data": {
            "text/plain": [
              "       InvoiceNo StockCode                        Description  Quantity  \\\n",
              "3        C571196     23350            ROLL WRAP VINTAGE SPOT        -12   \n",
              "34       C578367     22759       SET OF 3 NOTEBOOKS IN PARCEL       -12   \n",
              "121      C573010     20979      36 PENCILS TUBE RED RETROSPOT       -11   \n",
              "219      C570828    90059E     DIAMANTE HAIR GRIP PACK/2 RUBY        -6   \n",
              "220      C563693     84050    PINK HEART SHAPE EGG FRYING PAN        -1   \n",
              "...          ...       ...                                ...       ...   \n",
              "514660   C574954     22720  SET OF 3 CAKE TINS PANTRY DESIGN         -3   \n",
              "514692   C554029     22423           REGENCY CAKESTAND 3 TIER        -1   \n",
              "514696   C552805     21155              RED RETROSPOT PEG BAG        -6   \n",
              "514700   C546870         M                             Manual        -2   \n",
              "514745   C559939     22079         RIBBON REEL HEARTS DESIGN        -10   \n",
              "\n",
              "                InvoiceDate  UnitPrice  CustomerID         Country  \n",
              "3       2011-10-14 12:02:00       1.25         NaN  United Kingdom  \n",
              "34      2011-11-24 11:00:00       1.65     14640.0  United Kingdom  \n",
              "121     2011-10-27 12:29:00       1.25     13735.0  United Kingdom  \n",
              "219     2011-10-12 13:15:00       1.65     14911.0            EIRE  \n",
              "220     2011-08-18 13:04:00       1.65     17243.0  United Kingdom  \n",
              "...                     ...        ...         ...             ...  \n",
              "514660  2011-11-08 09:52:00       4.95     18223.0  United Kingdom  \n",
              "514692  2011-05-20 13:54:00      12.75     12681.0          France  \n",
              "514696  2011-05-11 12:34:00       2.55     14149.0  United Kingdom  \n",
              "514700  2011-03-17 16:07:00       2.50     14462.0  United Kingdom  \n",
              "514745  2011-07-14 10:19:00       1.65     14426.0  United Kingdom  \n",
              "\n",
              "[8763 rows x 8 columns]"
            ],
            "text/html": [
              "\n",
              "  <div id=\"df-af9fd9e0-7b13-40d6-8839-9db23a001487\" class=\"colab-df-container\">\n",
              "    <div>\n",
              "<style scoped>\n",
              "    .dataframe tbody tr th:only-of-type {\n",
              "        vertical-align: middle;\n",
              "    }\n",
              "\n",
              "    .dataframe tbody tr th {\n",
              "        vertical-align: top;\n",
              "    }\n",
              "\n",
              "    .dataframe thead th {\n",
              "        text-align: right;\n",
              "    }\n",
              "</style>\n",
              "<table border=\"1\" class=\"dataframe\">\n",
              "  <thead>\n",
              "    <tr style=\"text-align: right;\">\n",
              "      <th></th>\n",
              "      <th>InvoiceNo</th>\n",
              "      <th>StockCode</th>\n",
              "      <th>Description</th>\n",
              "      <th>Quantity</th>\n",
              "      <th>InvoiceDate</th>\n",
              "      <th>UnitPrice</th>\n",
              "      <th>CustomerID</th>\n",
              "      <th>Country</th>\n",
              "    </tr>\n",
              "  </thead>\n",
              "  <tbody>\n",
              "    <tr>\n",
              "      <th>3</th>\n",
              "      <td>C571196</td>\n",
              "      <td>23350</td>\n",
              "      <td>ROLL WRAP VINTAGE SPOT</td>\n",
              "      <td>-12</td>\n",
              "      <td>2011-10-14 12:02:00</td>\n",
              "      <td>1.25</td>\n",
              "      <td>NaN</td>\n",
              "      <td>United Kingdom</td>\n",
              "    </tr>\n",
              "    <tr>\n",
              "      <th>34</th>\n",
              "      <td>C578367</td>\n",
              "      <td>22759</td>\n",
              "      <td>SET OF 3 NOTEBOOKS IN PARCEL</td>\n",
              "      <td>-12</td>\n",
              "      <td>2011-11-24 11:00:00</td>\n",
              "      <td>1.65</td>\n",
              "      <td>14640.0</td>\n",
              "      <td>United Kingdom</td>\n",
              "    </tr>\n",
              "    <tr>\n",
              "      <th>121</th>\n",
              "      <td>C573010</td>\n",
              "      <td>20979</td>\n",
              "      <td>36 PENCILS TUBE RED RETROSPOT</td>\n",
              "      <td>-11</td>\n",
              "      <td>2011-10-27 12:29:00</td>\n",
              "      <td>1.25</td>\n",
              "      <td>13735.0</td>\n",
              "      <td>United Kingdom</td>\n",
              "    </tr>\n",
              "    <tr>\n",
              "      <th>219</th>\n",
              "      <td>C570828</td>\n",
              "      <td>90059E</td>\n",
              "      <td>DIAMANTE HAIR GRIP PACK/2 RUBY</td>\n",
              "      <td>-6</td>\n",
              "      <td>2011-10-12 13:15:00</td>\n",
              "      <td>1.65</td>\n",
              "      <td>14911.0</td>\n",
              "      <td>EIRE</td>\n",
              "    </tr>\n",
              "    <tr>\n",
              "      <th>220</th>\n",
              "      <td>C563693</td>\n",
              "      <td>84050</td>\n",
              "      <td>PINK HEART SHAPE EGG FRYING PAN</td>\n",
              "      <td>-1</td>\n",
              "      <td>2011-08-18 13:04:00</td>\n",
              "      <td>1.65</td>\n",
              "      <td>17243.0</td>\n",
              "      <td>United Kingdom</td>\n",
              "    </tr>\n",
              "    <tr>\n",
              "      <th>...</th>\n",
              "      <td>...</td>\n",
              "      <td>...</td>\n",
              "      <td>...</td>\n",
              "      <td>...</td>\n",
              "      <td>...</td>\n",
              "      <td>...</td>\n",
              "      <td>...</td>\n",
              "      <td>...</td>\n",
              "    </tr>\n",
              "    <tr>\n",
              "      <th>514660</th>\n",
              "      <td>C574954</td>\n",
              "      <td>22720</td>\n",
              "      <td>SET OF 3 CAKE TINS PANTRY DESIGN</td>\n",
              "      <td>-3</td>\n",
              "      <td>2011-11-08 09:52:00</td>\n",
              "      <td>4.95</td>\n",
              "      <td>18223.0</td>\n",
              "      <td>United Kingdom</td>\n",
              "    </tr>\n",
              "    <tr>\n",
              "      <th>514692</th>\n",
              "      <td>C554029</td>\n",
              "      <td>22423</td>\n",
              "      <td>REGENCY CAKESTAND 3 TIER</td>\n",
              "      <td>-1</td>\n",
              "      <td>2011-05-20 13:54:00</td>\n",
              "      <td>12.75</td>\n",
              "      <td>12681.0</td>\n",
              "      <td>France</td>\n",
              "    </tr>\n",
              "    <tr>\n",
              "      <th>514696</th>\n",
              "      <td>C552805</td>\n",
              "      <td>21155</td>\n",
              "      <td>RED RETROSPOT PEG BAG</td>\n",
              "      <td>-6</td>\n",
              "      <td>2011-05-11 12:34:00</td>\n",
              "      <td>2.55</td>\n",
              "      <td>14149.0</td>\n",
              "      <td>United Kingdom</td>\n",
              "    </tr>\n",
              "    <tr>\n",
              "      <th>514700</th>\n",
              "      <td>C546870</td>\n",
              "      <td>M</td>\n",
              "      <td>Manual</td>\n",
              "      <td>-2</td>\n",
              "      <td>2011-03-17 16:07:00</td>\n",
              "      <td>2.50</td>\n",
              "      <td>14462.0</td>\n",
              "      <td>United Kingdom</td>\n",
              "    </tr>\n",
              "    <tr>\n",
              "      <th>514745</th>\n",
              "      <td>C559939</td>\n",
              "      <td>22079</td>\n",
              "      <td>RIBBON REEL HEARTS DESIGN</td>\n",
              "      <td>-10</td>\n",
              "      <td>2011-07-14 10:19:00</td>\n",
              "      <td>1.65</td>\n",
              "      <td>14426.0</td>\n",
              "      <td>United Kingdom</td>\n",
              "    </tr>\n",
              "  </tbody>\n",
              "</table>\n",
              "<p>8763 rows × 8 columns</p>\n",
              "</div>\n",
              "    <div class=\"colab-df-buttons\">\n",
              "\n",
              "  <div class=\"colab-df-container\">\n",
              "    <button class=\"colab-df-convert\" onclick=\"convertToInteractive('df-af9fd9e0-7b13-40d6-8839-9db23a001487')\"\n",
              "            title=\"Convert this dataframe to an interactive table.\"\n",
              "            style=\"display:none;\">\n",
              "\n",
              "  <svg xmlns=\"http://www.w3.org/2000/svg\" height=\"24px\" viewBox=\"0 -960 960 960\">\n",
              "    <path d=\"M120-120v-720h720v720H120Zm60-500h600v-160H180v160Zm220 220h160v-160H400v160Zm0 220h160v-160H400v160ZM180-400h160v-160H180v160Zm440 0h160v-160H620v160ZM180-180h160v-160H180v160Zm440 0h160v-160H620v160Z\"/>\n",
              "  </svg>\n",
              "    </button>\n",
              "\n",
              "  <style>\n",
              "    .colab-df-container {\n",
              "      display:flex;\n",
              "      gap: 12px;\n",
              "    }\n",
              "\n",
              "    .colab-df-convert {\n",
              "      background-color: #E8F0FE;\n",
              "      border: none;\n",
              "      border-radius: 50%;\n",
              "      cursor: pointer;\n",
              "      display: none;\n",
              "      fill: #1967D2;\n",
              "      height: 32px;\n",
              "      padding: 0 0 0 0;\n",
              "      width: 32px;\n",
              "    }\n",
              "\n",
              "    .colab-df-convert:hover {\n",
              "      background-color: #E2EBFA;\n",
              "      box-shadow: 0px 1px 2px rgba(60, 64, 67, 0.3), 0px 1px 3px 1px rgba(60, 64, 67, 0.15);\n",
              "      fill: #174EA6;\n",
              "    }\n",
              "\n",
              "    .colab-df-buttons div {\n",
              "      margin-bottom: 4px;\n",
              "    }\n",
              "\n",
              "    [theme=dark] .colab-df-convert {\n",
              "      background-color: #3B4455;\n",
              "      fill: #D2E3FC;\n",
              "    }\n",
              "\n",
              "    [theme=dark] .colab-df-convert:hover {\n",
              "      background-color: #434B5C;\n",
              "      box-shadow: 0px 1px 3px 1px rgba(0, 0, 0, 0.15);\n",
              "      filter: drop-shadow(0px 1px 2px rgba(0, 0, 0, 0.3));\n",
              "      fill: #FFFFFF;\n",
              "    }\n",
              "  </style>\n",
              "\n",
              "    <script>\n",
              "      const buttonEl =\n",
              "        document.querySelector('#df-af9fd9e0-7b13-40d6-8839-9db23a001487 button.colab-df-convert');\n",
              "      buttonEl.style.display =\n",
              "        google.colab.kernel.accessAllowed ? 'block' : 'none';\n",
              "\n",
              "      async function convertToInteractive(key) {\n",
              "        const element = document.querySelector('#df-af9fd9e0-7b13-40d6-8839-9db23a001487');\n",
              "        const dataTable =\n",
              "          await google.colab.kernel.invokeFunction('convertToInteractive',\n",
              "                                                    [key], {});\n",
              "        if (!dataTable) return;\n",
              "\n",
              "        const docLinkHtml = 'Like what you see? Visit the ' +\n",
              "          '<a target=\"_blank\" href=https://colab.research.google.com/notebooks/data_table.ipynb>data table notebook</a>'\n",
              "          + ' to learn more about interactive tables.';\n",
              "        element.innerHTML = '';\n",
              "        dataTable['output_type'] = 'display_data';\n",
              "        await google.colab.output.renderOutput(dataTable, element);\n",
              "        const docLink = document.createElement('div');\n",
              "        docLink.innerHTML = docLinkHtml;\n",
              "        element.appendChild(docLink);\n",
              "      }\n",
              "    </script>\n",
              "  </div>\n",
              "\n",
              "\n",
              "<div id=\"df-4d0a8463-8474-4721-bfdb-c5332ca014d2\">\n",
              "  <button class=\"colab-df-quickchart\" onclick=\"quickchart('df-4d0a8463-8474-4721-bfdb-c5332ca014d2')\"\n",
              "            title=\"Suggest charts\"\n",
              "            style=\"display:none;\">\n",
              "\n",
              "<svg xmlns=\"http://www.w3.org/2000/svg\" height=\"24px\"viewBox=\"0 0 24 24\"\n",
              "     width=\"24px\">\n",
              "    <g>\n",
              "        <path d=\"M19 3H5c-1.1 0-2 .9-2 2v14c0 1.1.9 2 2 2h14c1.1 0 2-.9 2-2V5c0-1.1-.9-2-2-2zM9 17H7v-7h2v7zm4 0h-2V7h2v10zm4 0h-2v-4h2v4z\"/>\n",
              "    </g>\n",
              "</svg>\n",
              "  </button>\n",
              "\n",
              "<style>\n",
              "  .colab-df-quickchart {\n",
              "      --bg-color: #E8F0FE;\n",
              "      --fill-color: #1967D2;\n",
              "      --hover-bg-color: #E2EBFA;\n",
              "      --hover-fill-color: #174EA6;\n",
              "      --disabled-fill-color: #AAA;\n",
              "      --disabled-bg-color: #DDD;\n",
              "  }\n",
              "\n",
              "  [theme=dark] .colab-df-quickchart {\n",
              "      --bg-color: #3B4455;\n",
              "      --fill-color: #D2E3FC;\n",
              "      --hover-bg-color: #434B5C;\n",
              "      --hover-fill-color: #FFFFFF;\n",
              "      --disabled-bg-color: #3B4455;\n",
              "      --disabled-fill-color: #666;\n",
              "  }\n",
              "\n",
              "  .colab-df-quickchart {\n",
              "    background-color: var(--bg-color);\n",
              "    border: none;\n",
              "    border-radius: 50%;\n",
              "    cursor: pointer;\n",
              "    display: none;\n",
              "    fill: var(--fill-color);\n",
              "    height: 32px;\n",
              "    padding: 0;\n",
              "    width: 32px;\n",
              "  }\n",
              "\n",
              "  .colab-df-quickchart:hover {\n",
              "    background-color: var(--hover-bg-color);\n",
              "    box-shadow: 0 1px 2px rgba(60, 64, 67, 0.3), 0 1px 3px 1px rgba(60, 64, 67, 0.15);\n",
              "    fill: var(--button-hover-fill-color);\n",
              "  }\n",
              "\n",
              "  .colab-df-quickchart-complete:disabled,\n",
              "  .colab-df-quickchart-complete:disabled:hover {\n",
              "    background-color: var(--disabled-bg-color);\n",
              "    fill: var(--disabled-fill-color);\n",
              "    box-shadow: none;\n",
              "  }\n",
              "\n",
              "  .colab-df-spinner {\n",
              "    border: 2px solid var(--fill-color);\n",
              "    border-color: transparent;\n",
              "    border-bottom-color: var(--fill-color);\n",
              "    animation:\n",
              "      spin 1s steps(1) infinite;\n",
              "  }\n",
              "\n",
              "  @keyframes spin {\n",
              "    0% {\n",
              "      border-color: transparent;\n",
              "      border-bottom-color: var(--fill-color);\n",
              "      border-left-color: var(--fill-color);\n",
              "    }\n",
              "    20% {\n",
              "      border-color: transparent;\n",
              "      border-left-color: var(--fill-color);\n",
              "      border-top-color: var(--fill-color);\n",
              "    }\n",
              "    30% {\n",
              "      border-color: transparent;\n",
              "      border-left-color: var(--fill-color);\n",
              "      border-top-color: var(--fill-color);\n",
              "      border-right-color: var(--fill-color);\n",
              "    }\n",
              "    40% {\n",
              "      border-color: transparent;\n",
              "      border-right-color: var(--fill-color);\n",
              "      border-top-color: var(--fill-color);\n",
              "    }\n",
              "    60% {\n",
              "      border-color: transparent;\n",
              "      border-right-color: var(--fill-color);\n",
              "    }\n",
              "    80% {\n",
              "      border-color: transparent;\n",
              "      border-right-color: var(--fill-color);\n",
              "      border-bottom-color: var(--fill-color);\n",
              "    }\n",
              "    90% {\n",
              "      border-color: transparent;\n",
              "      border-bottom-color: var(--fill-color);\n",
              "    }\n",
              "  }\n",
              "</style>\n",
              "\n",
              "  <script>\n",
              "    async function quickchart(key) {\n",
              "      const quickchartButtonEl =\n",
              "        document.querySelector('#' + key + ' button');\n",
              "      quickchartButtonEl.disabled = true;  // To prevent multiple clicks.\n",
              "      quickchartButtonEl.classList.add('colab-df-spinner');\n",
              "      try {\n",
              "        const charts = await google.colab.kernel.invokeFunction(\n",
              "            'suggestCharts', [key], {});\n",
              "      } catch (error) {\n",
              "        console.error('Error during call to suggestCharts:', error);\n",
              "      }\n",
              "      quickchartButtonEl.classList.remove('colab-df-spinner');\n",
              "      quickchartButtonEl.classList.add('colab-df-quickchart-complete');\n",
              "    }\n",
              "    (() => {\n",
              "      let quickchartButtonEl =\n",
              "        document.querySelector('#df-4d0a8463-8474-4721-bfdb-c5332ca014d2 button');\n",
              "      quickchartButtonEl.style.display =\n",
              "        google.colab.kernel.accessAllowed ? 'block' : 'none';\n",
              "    })();\n",
              "  </script>\n",
              "</div>\n",
              "\n",
              "    </div>\n",
              "  </div>\n"
            ],
            "application/vnd.google.colaboratory.intrinsic+json": {
              "type": "dataframe",
              "repr_error": "0"
            }
          },
          "metadata": {},
          "execution_count": 10
        }
      ]
    },
    {
      "cell_type": "code",
      "source": [
        "# Drop the rows where quantity is adjusted\n",
        "df1 = df1[~df1['InvoiceNo'].str.contains('A')]"
      ],
      "metadata": {
        "id": "SoNTABJq7rSu"
      },
      "execution_count": null,
      "outputs": []
    },
    {
      "cell_type": "code",
      "source": [
        "# Adjust the quantity for cancelled\n",
        "df1.loc[search_results, 'Quantity'] = -1 * df1.loc[search_results, 'Quantity']"
      ],
      "metadata": {
        "id": "IS7GXOq48IM3"
      },
      "execution_count": null,
      "outputs": []
    },
    {
      "cell_type": "code",
      "source": [
        "search_results.info()"
      ],
      "metadata": {
        "id": "fZvd0qpG_lOb",
        "outputId": "717efc75-6583-44b6-b95e-cc6c6bc68a20",
        "colab": {
          "base_uri": "https://localhost:8080/"
        }
      },
      "execution_count": null,
      "outputs": [
        {
          "output_type": "stream",
          "name": "stdout",
          "text": [
            "<class 'pandas.core.series.Series'>\n",
            "Int64Index: 510059 entries, 0 to 514812\n",
            "Series name: InvoiceNo\n",
            "Non-Null Count   Dtype\n",
            "--------------   -----\n",
            "510059 non-null  bool \n",
            "dtypes: bool(1)\n",
            "memory usage: 20.5 MB\n"
          ]
        }
      ]
    },
    {
      "cell_type": "code",
      "source": [
        "df1.count()"
      ],
      "metadata": {
        "id": "EH8meYEY5njv",
        "outputId": "76934964-6d7f-43c2-adde-c1affda887c4",
        "colab": {
          "base_uri": "https://localhost:8080/",
          "height": 141
        }
      },
      "execution_count": null,
      "outputs": [
        {
          "output_type": "error",
          "ename": "NameError",
          "evalue": "name 'df1' is not defined",
          "traceback": [
            "\u001b[0;31m---------------------------------------------------------------------------\u001b[0m",
            "\u001b[0;31mNameError\u001b[0m                                 Traceback (most recent call last)",
            "\u001b[0;32m<ipython-input-2-881b90334d39>\u001b[0m in \u001b[0;36m<cell line: 1>\u001b[0;34m()\u001b[0m\n\u001b[0;32m----> 1\u001b[0;31m \u001b[0mdf1\u001b[0m\u001b[0;34m.\u001b[0m\u001b[0mcount\u001b[0m\u001b[0;34m(\u001b[0m\u001b[0;34m)\u001b[0m\u001b[0;34m\u001b[0m\u001b[0;34m\u001b[0m\u001b[0m\n\u001b[0m",
            "\u001b[0;31mNameError\u001b[0m: name 'df1' is not defined"
          ]
        }
      ]
    },
    {
      "cell_type": "code",
      "source": [
        "# Count the missing values in each column\n",
        "missing_values = df.isnull().sum()\n",
        "\n",
        "# Print the count of missing values\n",
        "print(missing_values)"
      ],
      "metadata": {
        "id": "UDS7bKnf5xuw",
        "outputId": "56f4b29c-490c-41e1-ca7f-a25ecf2e99d1",
        "colab": {
          "base_uri": "https://localhost:8080/"
        }
      },
      "execution_count": 6,
      "outputs": [
        {
          "output_type": "stream",
          "name": "stdout",
          "text": [
            "InvoiceNo           0\n",
            "StockCode           0\n",
            "Description      1385\n",
            "Quantity            0\n",
            "InvoiceDate         0\n",
            "UnitPrice           0\n",
            "CustomerID     128263\n",
            "Country             0\n",
            "dtype: int64\n"
          ]
        }
      ]
    },
    {
      "cell_type": "code",
      "source": [
        "# handling missing values\n",
        "pandas_feature=['Description','CustomerID']\n",
        "df1.dropna(subset=pandas_feature, inplace=True)\n",
        "\n",
        "# Fill the remaining null values in the pandas feature with the mean value\n",
        "mean_value = df1[pandas_feature].mean()\n",
        "df1[pandas_feature].fillna(mean_value, inplace=True)\n",
        "\n",
        "# Print the updated DataFrame\n",
        "print(df1)"
      ],
      "metadata": {
        "id": "QtvKTi5G6Ho3"
      },
      "execution_count": null,
      "outputs": []
    },
    {
      "cell_type": "code",
      "source": [
        "# Removing Rows\n",
        "feature = 'StockCode'\n",
        "df1 = df1.drop(df1[df1[feature].isin( ['POST', 'PADS', 'M', 'DOT', 'C2', 'BANK CHARGES'])].index)\n",
        "# Equivalent Another Way\n",
        "df1 = df1.query(\"StockCode not in ['POST', 'PADS', 'M', 'DOT', 'C2', 'BANK CHARGES']\")"
      ],
      "metadata": {
        "id": "kKVHNjWjLP1N"
      },
      "execution_count": 7,
      "outputs": []
    },
    {
      "cell_type": "code",
      "source": [
        "# Create a boxplot using pandas\n",
        "df.boxplot(column='UnitPrice', figsize=(8, 6))\n",
        "\n",
        "# Set the title and labels\n",
        "plt.title('Boxplot of UnitPrice')\n",
        "plt.ylabel('UnitPrice')\n",
        "\n",
        "# Show the plot\n",
        "plt.show()"
      ],
      "metadata": {
        "id": "m3uN0BJ1NjXI",
        "outputId": "552e137b-a9c1-4f98-da63-d67b419eff91",
        "colab": {
          "base_uri": "https://localhost:8080/",
          "height": 545
        }
      },
      "execution_count": 8,
      "outputs": [
        {
          "output_type": "display_data",
          "data": {
            "text/plain": [
              "<Figure size 800x600 with 1 Axes>"
            ],
            "image/png": "[encoded data removed]"
          },
          "metadata": {}
        }
      ]
    },
    {
      "cell_type": "code",
      "source": [
        "# Create a boxplot using pandas\n",
        "df.boxplot(column='Quantity', figsize=(8, 6))\n",
        "\n",
        "# Set the title and labels\n",
        "plt.title('Boxplot of Quantity')\n",
        "plt.ylabel('Quantity')\n",
        "\n",
        "# Show the plot\n",
        "plt.show()"
      ],
      "metadata": {
        "id": "eQAw4SRvQGBk",
        "outputId": "98a171d7-3ed2-4c0b-e604-f5f54c9d3ec5",
        "colab": {
          "base_uri": "https://localhost:8080/",
          "height": 545
        }
      },
      "execution_count": 9,
      "outputs": [
        {
          "output_type": "display_data",
          "data": {
            "text/plain": [
              "<Figure size 800x600 with 1 Axes>"
            ],
            "image/png": "[encoded data removed]"
          },
          "metadata": {}
        }
      ]
    },
    {
      "cell_type": "code",
      "source": [
        "df1= remove_outliers_iqr(df1, 'Quantity')\n"
      ],
      "metadata": {
        "id": "jXuvjhJPQePk"
      },
      "execution_count": 27,
      "outputs": []
    },
    {
      "cell_type": "code",
      "source": [
        "# Create a boxplot using pandas\n",
        "df1.boxplot(column='Quantity', figsize=(8, 6))\n",
        "\n",
        "# Set the title and labels\n",
        "plt.title('Boxplot of Quantity')\n",
        "plt.ylabel('Quantity')\n",
        "\n",
        "# Show the plot\n",
        "plt.show()"
      ],
      "metadata": {
        "id": "JFGrE4zCQr7g",
        "outputId": "2221e1a7-b083-4ef4-8a29-0a026328d2cb",
        "colab": {
          "base_uri": "https://localhost:8080/",
          "height": 545
        }
      },
      "execution_count": 28,
      "outputs": [
        {
          "output_type": "display_data",
          "data": {
            "text/plain": [
              "<Figure size 800x600 with 1 Axes>"
            ],
            "image/png": "[encoded data removed]"
          },
          "metadata": {}
        }
      ]
    },
    {
      "cell_type": "code",
      "source": [
        "df1= remove_outliers_iqr(df1, 'UnitPrice')"
      ],
      "metadata": {
        "id": "Unf5dOu7QwC2"
      },
      "execution_count": 29,
      "outputs": []
    },
    {
      "cell_type": "code",
      "source": [
        "# Create a boxplot using pandas\n",
        "df1.boxplot(column='UnitPrice', figsize=(8, 6))\n",
        "\n",
        "# Set the title and labels\n",
        "plt.title('Boxplot of UnitPrice')\n",
        "plt.ylabel('UnitPrice')\n",
        "\n",
        "# Show the plot\n",
        "plt.show()"
      ],
      "metadata": {
        "id": "9pmC_mOtQwGI",
        "outputId": "5c942626-b43c-4616-e262-2f4ede990816",
        "colab": {
          "base_uri": "https://localhost:8080/",
          "height": 545
        }
      },
      "execution_count": 30,
      "outputs": [
        {
          "output_type": "display_data",
          "data": {
            "text/plain": [
              "<Figure size 800x600 with 1 Axes>"
            ],
            "image/png": "[encoded data removed]"
          },
          "metadata": {}
        }
      ]
    },
    {
      "cell_type": "code",
      "source": [
        "df1.info()"
      ],
      "metadata": {
        "id": "YdqrLnN-REjd",
        "outputId": "308a7a83-aef9-49dc-9133-23a3ac1746d9",
        "colab": {
          "base_uri": "https://localhost:8080/"
        }
      },
      "execution_count": null,
      "outputs": [
        {
          "output_type": "stream",
          "name": "stdout",
          "text": [
            "<class 'pandas.core.frame.DataFrame'>\n",
            "Int64Index: 316812 entries, 1 to 514812\n",
            "Data columns (total 8 columns):\n",
            " #   Column       Non-Null Count   Dtype  \n",
            "---  ------       --------------   -----  \n",
            " 0   InvoiceNo    316812 non-null  object \n",
            " 1   StockCode    316812 non-null  object \n",
            " 2   Description  316812 non-null  object \n",
            " 3   Quantity     316812 non-null  int64  \n",
            " 4   InvoiceDate  316812 non-null  object \n",
            " 5   UnitPrice    316812 non-null  float64\n",
            " 6   CustomerID   316812 non-null  float64\n",
            " 7   Country      316812 non-null  object \n",
            "dtypes: float64(2), int64(1), object(5)\n",
            "memory usage: 21.8+ MB\n"
          ]
        }
      ]
    },
    {
      "cell_type": "code",
      "source": [
        "df1['DayOfWeek'] = pd.to_datetime(df['InvoiceDate']).dt.day_name()\n"
      ],
      "metadata": {
        "id": "sF-qdP1ARcJi"
      },
      "execution_count": 25,
      "outputs": []
    },
    {
      "cell_type": "code",
      "source": [
        "df1['DayOfWeek']"
      ],
      "metadata": {
        "id": "C6aoW2HYRhPx",
        "outputId": "a789ac5c-fd46-40a3-cb07-8ff7415d0c79",
        "colab": {
          "base_uri": "https://localhost:8080/"
        }
      },
      "execution_count": null,
      "outputs": [
        {
          "output_type": "execute_result",
          "data": {
            "text/plain": [
              "1            Sunday\n",
              "2            Monday\n",
              "5         Wednesday\n",
              "7          Thursday\n",
              "8            Friday\n",
              "            ...    \n",
              "514803     Thursday\n",
              "514806      Tuesday\n",
              "514808       Sunday\n",
              "514809       Monday\n",
              "514812     Thursday\n",
              "Name: DayOfWeek, Length: 316812, dtype: object"
            ]
          },
          "metadata": {},
          "execution_count": 70
        }
      ]
    },
    {
      "cell_type": "code",
      "source": [
        "def drop_duplicate_fill_mean(df, feature):\n",
        "    # Drop the duplicate values in the pandas feature\n",
        "    df.drop_duplicates(subset=[feature], inplace=True)\n",
        "\n",
        "    # Fill the remaining null values in the pandas feature with the mean value\n",
        "    mean_value = df[feature].mean()\n",
        "    df[feature].fillna(mean_value, inplace=True)\n",
        "\n",
        "    # Return the updated DataFrame\n",
        "    return df\n",
        "\n",
        "def drop_null_fill_mean(df, feature):\n",
        "    # Drop the rows with null values in the pandas feature\n",
        "    df.dropna(subset=[feature], inplace=True)\n",
        "\n",
        "    # Fill the remaining null values in the pandas feature with the mean value\n",
        "    mean_value = df[feature].mean()\n",
        "    df[feature].fillna(mean_value, inplace=True)\n",
        "\n",
        "    # Return the updated DataFrame\n",
        "    return df\n",
        "\n",
        "def adjust_feature_value(df, search_feature, target_feature, character):\n",
        "    # Search for the character in the search feature\n",
        "    df.loc[df[search_feature].str.contains(character), target_feature] *= -1\n",
        "\n",
        "    # Return the updated DataFrame\n",
        "    return df\n",
        "\n",
        "def remove_rows_by_feature_value(data, feature, selected_values):\n",
        "    # Remove rows based on feature values using isin\n",
        "    data = data[~data[feature].isin(selected_values)]\n",
        "    # Print the updated data\n",
        "    print(data)\n",
        "\n",
        "# Outlier removal based on Z Score\n",
        "def remove_outliers(data, feature):\n",
        "    # Calculate the z-score for the feature\n",
        "    z_scores = (data[feature] - data[feature].mean()) / data[feature].std()\n",
        "\n",
        "    # Define a threshold for outlier detection\n",
        "    threshold = 3\n",
        "\n",
        "    # Remove rows with z-scores greater than the threshold\n",
        "    data = data[z_scores.abs() <= threshold]\n",
        "\n",
        "    # Return the updated data\n",
        "    return data\n",
        "\n",
        "# Outlier removal based on IQR\n",
        "def remove_outliers_iqr(data, feature):\n",
        "    # Calculate the interquartile range for the feature\n",
        "    q1 = data[feature].quantile(0.25)\n",
        "    q3 = data[feature].quantile(0.75)\n",
        "    iqr = q3 - q1\n",
        "\n",
        "    # Define the lower and upper bounds for outlier detection\n",
        "    lower_bound = q1 - 1.5 * iqr\n",
        "    upper_bound = q3 + 1.5 * iqr\n",
        "\n",
        "    # Remove rows with values outside the bounds\n",
        "    data = data[(data[feature] >= lower_bound) & (data[feature] <= upper_bound)]\n",
        "\n",
        "    # Return the updated data\n",
        "    return data\n",
        "\n",
        "def identify_outliers_by_boxplot(data, feature):\n",
        "    # Calculate the interquartile range (IQR) for the feature\n",
        "    q1 = data[feature].quantile(0.25)\n",
        "    q3 = data[feature].quantile(0.75)\n",
        "    iqr = q3 - q1\n",
        "\n",
        "    # Define the lower and upper bounds for outlier detection\n",
        "    lower_bound = q1 - 1.5 * iqr\n",
        "    upper_bound = q3 + 1.5 * iqr\n",
        "\n",
        "    # Identify outliers based on the boxplot method\n",
        "    outliers = data[(data[feature] < lower_bound) | (data[feature] > upper_bound)]\n",
        "\n",
        "    # Return the outliers\n",
        "    return outliers\n",
        "\n",
        "def create_day_of_week_column(dataframe):\n",
        "    dataframe['InvoiceDate'] = pd.to_datetime(dataframe['InvoiceDate'])\n",
        "    dataframe['DayOfWeek'] = dataframe['InvoiceDate'].dt.day_name()\n",
        "    return dataframe\n"
      ],
      "metadata": {
        "id": "xHKNch_tCXHw"
      },
      "execution_count": 26,
      "outputs": []
    },
    {
      "cell_type": "markdown",
      "metadata": {
        "id": "graphic-vampire"
      },
      "source": [
        "## Understanding new insights from the data (1 point)"
      ]
    },
    {
      "cell_type": "markdown",
      "metadata": {
        "id": "furnished-station"
      },
      "source": [
        "1.  Are there any free items in the data? How many are there?\n",
        "\n",
        "2.  Find the number of transactions per country and visualize using an appropriate plot\n",
        "\n",
        "3.  What is the ratio of customers who are repeat purchasers vs single-time purchasers? Visualize using an appropriate plot.\n",
        "\n",
        "4. Plot heatmap showing unit price per month and day of the week\n",
        "\n",
        "  **Hint:** Month name as index on Y-axis, Day of the week on X-axis\n",
        "\n",
        "5. Find the top 10 customers who bought the most no.of items. Also find the top 10 Items bought by most no.of customers."
      ]
    },
    {
      "cell_type": "code",
      "metadata": {
        "id": "Fe-6_IuzFJJM",
        "colab": {
          "base_uri": "https://localhost:8080/",
          "height": 1000
        },
        "outputId": "b6dbc768-c185-469f-aa55-4c6cd8f826c0"
      },
      "source": [
        "# Feature Engineering\n",
        "df1['TotalPrice'] = df1['Quantity'] * df1['UnitPrice']\n",
        "\n",
        "# Check for free items\n",
        "free_items = df1[df1['UnitPrice'] == 0]\n",
        "num_free_items = len(free_items)\n",
        "print(\"Number of free items:\", num_free_items)\n",
        "\n",
        "# Number of transactions per country\n",
        "transactions_per_country = df1['Country'].value_counts()\n",
        "print(transactions_per_country)\n",
        "\n",
        "# Visualize transactions per country\n",
        "plt.figure(figsize=(10, 6))\n",
        "sns.barplot(x=transactions_per_country.index, y=transactions_per_country.values)\n",
        "plt.xticks(rotation=90)\n",
        "plt.xlabel('Country')\n",
        "plt.ylabel('Number of Transactions')\n",
        "plt.title('Number of Transactions per Country')\n",
        "plt.show()\n",
        "\n",
        "# Ratio of repeat purchasers vs single-time purchasers\n",
        "customer_repeat_status = df1.groupby('CustomerID')['InvoiceNo'].nunique()\n",
        "repeat_customers = sum(customer_repeat_status > 1)\n",
        "single_time_customers = sum(customer_repeat_status == 1)\n",
        "ratio_repeat_vs_single = repeat_customers / single_time_customers\n",
        "print(\"Ratio of repeat purchasers vs single-time purchasers:\", ratio_repeat_vs_single)\n",
        "\n",
        "# Visualize repeat vs single-time purchasers\n",
        "plt.figure(figsize=(6, 4))\n",
        "sns.barplot(x=['Repeat Purchasers', 'Single-Time Purchasers'], y=[repeat_customers, single_time_customers])\n",
        "plt.xlabel('Customer Type')\n",
        "plt.ylabel('Number of Customers')\n",
        "plt.title('Repeat vs Single-Time Purchasers')\n",
        "plt.show()\n",
        "\n",
        "df1['InvoiceDate'] = pd.to_datetime(df1['InvoiceDate'])\n",
        "\n",
        "\n",
        "# Create heatmap for unit price per month and day of the week\n",
        "df1['Month'] = df1['InvoiceDate'].dt.month_name()\n",
        "df1['DayOfWeek'] = df1['InvoiceDate'].dt.day_name()\n",
        "\n",
        "heatmap_data = df1.pivot_table(index='Month', columns='DayOfWeek', values='UnitPrice', aggfunc='mean')\n",
        "plt.figure(figsize=(10, 6))\n",
        "sns.heatmap(heatmap_data, cmap='YlGnBu', annot=True, fmt=\".2f\")\n",
        "plt.xlabel('Day of the Week')\n",
        "plt.ylabel('Month')\n",
        "plt.title('Unit Price per Month and Day of the Week')\n",
        "plt.show()\n",
        "\n",
        "# Finding top 10 customers who bought the most items\n",
        "top_customers = df1.groupby('CustomerID')['Quantity'].sum().nlargest(10)\n",
        "print(\"Top 10 customers who bought the most items:\")\n",
        "print(top_customers)\n",
        "\n",
        "# Finding top 10 items bought by most customers\n",
        "top_items = df1.groupby('StockCode')['CustomerID'].nunique().nlargest(10)\n",
        "print(\"Top 10 items bought by most customers:\")\n",
        "print(top_items)"
      ],
      "execution_count": 32,
      "outputs": [
        {
          "output_type": "stream",
          "name": "stdout",
          "text": [
            "Number of free items: 1136\n",
            "United Kingdom          365035\n",
            "Germany                   6136\n",
            "France                    5573\n",
            "EIRE                      4909\n",
            "Spain                     1709\n",
            "Belgium                   1403\n",
            "Switzerland               1179\n",
            "Portugal                  1062\n",
            "Norway                     577\n",
            "Italy                      521\n",
            "Australia                  457\n",
            "Netherlands                428\n",
            "Channel Islands            425\n",
            "Cyprus                     415\n",
            "Finland                    411\n",
            "Unspecified                325\n",
            "Austria                    287\n",
            "Poland                     213\n",
            "Denmark                    184\n",
            "Sweden                     174\n",
            "Israel                     159\n",
            "USA                        149\n",
            "Hong Kong                  146\n",
            "Iceland                    125\n",
            "Japan                      102\n",
            "Greece                     100\n",
            "Singapore                   98\n",
            "Canada                      89\n",
            "Malta                       87\n",
            "United Arab Emirates        44\n",
            "RSA                         42\n",
            "European Community          38\n",
            "Lebanon                     30\n",
            "Lithuania                   20\n",
            "Brazil                      17\n",
            "Saudi Arabia                 9\n",
            "Bahrain                      8\n",
            "Czech Republic               5\n",
            "Name: Country, dtype: int64\n"
          ]
        },
        {
          "output_type": "display_data",
          "data": {
            "text/plain": [
              "<Figure size 1000x600 with 1 Axes>"
            ],
            "image/png": "[encoded data removed]"
          },
          "metadata": {}
        },
        {
          "output_type": "stream",
          "name": "stdout",
          "text": [
            "Ratio of repeat purchasers vs single-time purchasers: 2.0536370315944157\n"
          ]
        },
        {
          "output_type": "display_data",
          "data": {
            "text/plain": [
              "<Figure size 600x400 with 1 Axes>"
            ],
            "image/png": "[encoded data removed]"
          },
          "metadata": {}
        },
        {
          "output_type": "display_data",
          "data": {
            "text/plain": [
              "<Figure size 1000x600 with 2 Axes>"
            ],
            "image/png": "[encoded data removed]"
          },
          "metadata": {}
        },
        {
          "output_type": "stream",
          "name": "stdout",
          "text": [
            "Top 10 customers who bought the most items:\n",
            "CustomerID\n",
            "14911.0    29794\n",
            "17841.0    15376\n",
            "14096.0    11933\n",
            "13089.0    10863\n",
            "12748.0     9955\n",
            "15039.0     5395\n",
            "15311.0     5307\n",
            "13081.0     5198\n",
            "14156.0     4736\n",
            "17735.0     4607\n",
            "Name: Quantity, dtype: int64\n",
            "Top 10 items bought by most customers:\n",
            "StockCode\n",
            "85123A    726\n",
            "47566     640\n",
            "22720     600\n",
            "22138     555\n",
            "22457     552\n",
            "84879     550\n",
            "23298     540\n",
            "22960     536\n",
            "85099B    535\n",
            "22086     508\n",
            "Name: CustomerID, dtype: int64\n"
          ]
        }
      ]
    },
    {
      "cell_type": "markdown",
      "metadata": {
        "id": "royal-chancellor"
      },
      "source": [
        "## Feature Engineering and Transformation (2 points)"
      ]
    },
    {
      "cell_type": "markdown",
      "metadata": {
        "id": "dietary-willow"
      },
      "source": [
        "### Create new features to uncover better insights and drop the unwanted columns\n",
        "\n",
        "* Create a new column which represents Total amount spent by each customer\n",
        "\n",
        "    **Hint:** Quantity * UnitPrice\n",
        "\n",
        "* Customer IDs are seen to be repeated. Maintain unique customer IDs by grouping and summing up all possible observations per customer.\n",
        "\n",
        "    **Hint:** [pandas.groupby.agg](https://pandas.pydata.org/pandas-docs/version/0.22/generated/pandas.core.groupby.DataFrameGroupBy.agg.html)\n",
        "\n",
        "**Note:** Perform the above operations in function, to reuse and apply the same for test data"
      ]
    },
    {
      "cell_type": "code",
      "source": [
        "def feature_engineering(df):\n",
        "    # Drop unwanted columns\n",
        "    df.drop(['InvoiceNo', 'Description'], axis=1, inplace=True)\n",
        "\n",
        "    # Create new column for Total amount spent by each customer\n",
        "    df['TotalAmount'] = df['Quantity'] * df['UnitPrice']\n",
        "\n",
        "    # Group by CustomerID and aggregate the sum of Quantity and TotalAmount\n",
        "    df_grouped = df.groupby('CustomerID').agg({\n",
        "        'Quantity': 'sum',\n",
        "        'TotalAmount': 'sum',\n",
        "        'Country': 'first'  # Keep the first country value for each customer\n",
        "    }).reset_index()\n",
        "\n",
        "    return df_grouped"
      ],
      "metadata": {
        "id": "QntySXPFb27M"
      },
      "execution_count": 33,
      "outputs": []
    },
    {
      "cell_type": "code",
      "metadata": {
        "id": "WCRODVjAdZuu"
      },
      "source": [
        "df_train = feature_engineering(df1)"
      ],
      "execution_count": 34,
      "outputs": []
    },
    {
      "cell_type": "markdown",
      "metadata": {
        "id": "respected-empire"
      },
      "source": [
        "### Scale the data\n",
        "\n",
        "Apply `StandardScaler` on the features."
      ]
    },
    {
      "cell_type": "code",
      "metadata": {
        "id": "jEsufbR_dZuv",
        "colab": {
          "base_uri": "https://localhost:8080/"
        },
        "outputId": "095c4071-58bb-44b7-f4ff-c738b68b3205"
      },
      "source": [
        "from sklearn.preprocessing import StandardScaler\n",
        "\n",
        "# Initialize StandardScaler\n",
        "scaler = StandardScaler()\n",
        "\n",
        "# Define the features to be scaled\n",
        "features_to_scale = ['Quantity', 'TotalAmount']\n",
        "\n",
        "# Fit and transform StandardScaler on training data\n",
        "df_train_scaled = df_train.copy()  # Create a copy of the training data\n",
        "df_train_scaled[features_to_scale] = scaler.fit_transform(df_train_scaled[features_to_scale])\n",
        "\n",
        "# Print first few rows of the scaled training data\n",
        "print(\"Scaled Training Data:\")\n",
        "print(df_train_scaled.head())\n",
        "\n"
      ],
      "execution_count": 35,
      "outputs": [
        {
          "output_type": "stream",
          "name": "stdout",
          "text": [
            "Scaled Training Data:\n",
            "   CustomerID  Quantity  TotalAmount  Country\n",
            "0     12347.0  0.900782     1.036279  Iceland\n",
            "1     12349.0  0.068660     0.105396    Italy\n",
            "2     12350.0 -0.272102    -0.306474   Norway\n",
            "3     12352.0  0.127368     0.195333   Norway\n",
            "4     12353.0 -0.473752    -0.458692  Bahrain\n"
          ]
        }
      ]
    },
    {
      "cell_type": "markdown",
      "metadata": {
        "id": "smooth-florist"
      },
      "source": [
        "## Clustering ( 5 points)"
      ]
    },
    {
      "cell_type": "markdown",
      "metadata": {
        "id": "rn1qD44PI0H_"
      },
      "source": [
        "### Apply k-means algorithm to identify a specific number of clusters\n",
        "\n",
        "\n",
        "* Fit the k-means model\n",
        "\n",
        "* Extract and store the cluster centroids\n",
        "\n",
        "Below are the parameters for k-means, which are helpful\n",
        "\n",
        "**n_clusters** is no. of clusters specified\n",
        "\n",
        "**k-means++** is a random initialization method for centroids to avoid random initialisation trap\n",
        "\n",
        "**max_iter** is max no of iterations defined when k-means is running\n",
        "\n",
        "**n_init** is no. of times k-means will run with different initial centroids\n",
        "\n",
        "[why-is-k-means-slower-than-random-initialization-k-means](https://stats.stackexchange.com/questions/185396/why-is-k-means-slower-than-random-initialization-k-means/185422)"
      ]
    },
    {
      "cell_type": "code",
      "metadata": {
        "id": "GDjIF0_4HiIM",
        "colab": {
          "base_uri": "https://localhost:8080/"
        },
        "outputId": "7885d2d4-ef99-4fba-b3ad-539a85bfb452"
      },
      "source": [
        "from sklearn.cluster import KMeans\n",
        "\n",
        "# Initialize KMeans with specified parameters\n",
        "n_clusters = 5  # Specify the number of clusters\n",
        "kmeans = KMeans(n_clusters=n_clusters, init='k-means++', max_iter=300, n_init=10, random_state=42)\n",
        "\n",
        "# Fit the KMeans model on the scaled training data\n",
        "kmeans.fit(df_train_scaled[features_to_scale])  # Use only the scaled features for clustering\n",
        "\n",
        "# Extract and store the cluster centroids\n",
        "cluster_centroids = kmeans.cluster_centers_\n",
        "\n",
        "# Print the cluster centroids\n",
        "print(\"Cluster Centroids:\")\n",
        "print(cluster_centroids)\n"
      ],
      "execution_count": 36,
      "outputs": [
        {
          "output_type": "stream",
          "name": "stdout",
          "text": [
            "Cluster Centroids:\n",
            "[[-0.26784195 -0.26120894]\n",
            " [ 0.70923534  0.68387806]\n",
            " [37.53331349 38.18912926]\n",
            " [14.86403911 14.84214009]\n",
            " [ 2.80978163  2.76181519]]\n"
          ]
        }
      ]
    },
    {
      "cell_type": "markdown",
      "metadata": {
        "id": "bpmFFF3VdZux"
      },
      "source": [
        "#### Find the optimal number of clusters (K) by using the [Elbow method](https://pythonprogramminglanguage.com/kmeans-elbow-method/).\n",
        "\n",
        "Use the optimal no. of clusters and store the cluster centroids"
      ]
    },
    {
      "cell_type": "code",
      "metadata": {
        "id": "c3Db3IVBdZuy",
        "colab": {
          "base_uri": "https://localhost:8080/",
          "height": 564
        },
        "outputId": "72e12423-4320-4c3c-f7d5-9f6ac0c30478"
      },
      "source": [
        "import matplotlib.pyplot as plt\n",
        "\n",
        "# Initialize an empty list to store the within-cluster sum of squares (WCSS) for different K values\n",
        "wcss = []\n",
        "\n",
        "# Define the range of K values to test (e.g., from 1 to 10 clusters)\n",
        "k_values = range(1, 11)\n",
        "\n",
        "# Iterate over each K value and fit KMeans to compute WCSS\n",
        "for k in k_values:\n",
        "    kmeans = KMeans(n_clusters=k, init='k-means++', max_iter=300, n_init=10, random_state=42)\n",
        "    kmeans.fit(df_train_scaled[features_to_scale])  # Use only the scaled features for clustering\n",
        "    wcss.append(kmeans.inertia_)  # Inertia is the WCSS value\n",
        "\n",
        "# Plot the Elbow curve to visualize the optimal K value\n",
        "plt.figure(figsize=(8, 6))\n",
        "plt.plot(k_values, wcss, marker='o')\n",
        "plt.xlabel('Number of Clusters (K)')\n",
        "plt.ylabel('Within-Cluster Sum of Squares (WCSS)')\n",
        "plt.title('Elbow Method for Optimal K')\n",
        "plt.xticks(k_values)\n",
        "plt.grid(True)\n",
        "plt.show()\n"
      ],
      "execution_count": 37,
      "outputs": [
        {
          "output_type": "display_data",
          "data": {
            "text/plain": [
              "<Figure size 800x600 with 1 Axes>"
            ],
            "image/png": "[encoded data removed]"
          },
          "metadata": {}
        }
      ]
    },
    {
      "cell_type": "markdown",
      "metadata": {
        "id": "0q7nKnfVK_Yj"
      },
      "source": [
        "### Apply DBSCAN algorithm for clustering\n",
        "\n",
        "- Compare the results of clusters from k-means and DBSCAN\n"
      ]
    },
    {
      "cell_type": "code",
      "metadata": {
        "id": "O8ahr6ctjp9o",
        "colab": {
          "base_uri": "https://localhost:8080/"
        },
        "outputId": "e35e4228-b4e6-4bcd-d5f2-653f1b509389"
      },
      "source": [
        "from sklearn.cluster import DBSCAN\n",
        "from sklearn.metrics import silhouette_score\n",
        "\n",
        "# Initialize DBSCAN with epsilon and min_samples parameters\n",
        "epsilon = 0.5  # Adjust epsilon based on your data and desired clustering granularity\n",
        "min_samples = 5  # Minimum number of samples in a cluster\n",
        "dbscan = DBSCAN(eps=epsilon, min_samples=min_samples)\n",
        "\n",
        "# Fit DBSCAN on the scaled training data\n",
        "dbscan_clusters = dbscan.fit_predict(df_train_scaled[features_to_scale])  # Use only the scaled features\n",
        "\n",
        "# Evaluate DBSCAN clustering using silhouette score\n",
        "silhouette_dbscan = silhouette_score(df_train_scaled[features_to_scale], dbscan_clusters)\n",
        "print(\"Silhouette Score (DBSCAN):\", silhouette_dbscan)\n",
        "\n",
        "# Compare the number of clusters formed by DBSCAN\n",
        "num_dbscan_clusters = len(set(dbscan_clusters)) - (1 if -1 in dbscan_clusters else 0)\n",
        "print(\"Number of Clusters (DBSCAN):\", num_dbscan_clusters)\n",
        "\n",
        "# Compare the results of clusters from KMeans and DBSCAN\n",
        "kmeans_clusters = kmeans.labels_\n",
        "num_kmeans_clusters = len(set(kmeans_clusters))\n",
        "print(\"Number of Clusters (KMeans):\", num_kmeans_clusters)\n",
        "\n",
        "# Evaluate KMeans clustering using silhouette score\n",
        "silhouette_kmeans = silhouette_score(df_train_scaled[features_to_scale], kmeans_clusters)\n",
        "print(\"Silhouette Score (KMeans):\", silhouette_kmeans)\n"
      ],
      "execution_count": 38,
      "outputs": [
        {
          "output_type": "stream",
          "name": "stdout",
          "text": [
            "Silhouette Score (DBSCAN): 0.8414555086103009\n",
            "Number of Clusters (DBSCAN): 2\n",
            "Number of Clusters (KMeans): 10\n",
            "Silhouette Score (KMeans): 0.5696818840355129\n"
          ]
        }
      ]
    },
    {
      "cell_type": "markdown",
      "metadata": {
        "id": "FarGC20zgjHj"
      },
      "source": [
        "### Analyze the clusters\n",
        "\n",
        "\n",
        "- consider two features and visualize the clusters with different colors using the predicted cluster centers.\n",
        "\n",
        "  **Hint:** 2D plot\n",
        "\n",
        "- consider three features and visualize the clusters with different colors using the predicted cluster centers.\n",
        "\n",
        "  **Hint:** [3D plot](https://matplotlib.org/stable/gallery/mplot3d/scatter3d.html\n",
        ")"
      ]
    },
    {
      "cell_type": "code",
      "metadata": {
        "id": "07MVOFIidZuz",
        "colab": {
          "base_uri": "https://localhost:8080/",
          "height": 564
        },
        "outputId": "3232c0ae-8e8d-4fe9-b5e6-17bcda9df439"
      },
      "source": [
        "# Choose two features for 2D analysis and visualization (e.g., 'Quantity' and 'TotalAmount')\n",
        "features_2d = ['Quantity', 'TotalAmount']\n",
        "\n",
        "# Plot the clusters with different colors using predicted cluster centers\n",
        "plt.figure(figsize=(8, 6))\n",
        "plt.scatter(df_train_scaled[features_2d[0]], df_train_scaled[features_2d[1]], c=kmeans_clusters, cmap='viridis')\n",
        "plt.scatter(cluster_centroids[:, 0], cluster_centroids[:, 1], marker='x', c='red', s=100, label='Cluster Centers')\n",
        "plt.xlabel(features_2d[0])\n",
        "plt.ylabel(features_2d[1])\n",
        "plt.title('KMeans Clusters with Two Features')\n",
        "plt.legend()\n",
        "plt.show()\n"
      ],
      "execution_count": 40,
      "outputs": [
        {
          "output_type": "display_data",
          "data": {
            "text/plain": [
              "<Figure size 800x600 with 1 Axes>"
            ],
            "image/png": "[encoded data removed]"
          },
          "metadata": {}
        }
      ]
    },
    {
      "cell_type": "code",
      "source": [
        "# TODOOO"
      ],
      "metadata": {
        "id": "h7d6TCiRc6mp"
      },
      "execution_count": 42,
      "outputs": []
    },
    {
      "cell_type": "markdown",
      "metadata": {
        "id": "zef_pWaE20pP"
      },
      "source": [
        "### Train a supervised algorithm on clustered data\n",
        "\n",
        "This will allow us to predict cluster numbers (label) for each test data instance\n",
        "\n",
        "* Create labelled data with k-means cluster labels\n",
        "  \n",
        "  **Hint**: [`kmeans.labels_`](https://scikit-learn.org/stable/modules/generated/sklearn.cluster.KMeans.html\n",
        ")\n",
        "* Split the data into train and validation sets\n",
        "* Train a supervised algorithm on the train data\n",
        "* Find the accuracy of the model using validation data"
      ]
    },
    {
      "cell_type": "code",
      "metadata": {
        "id": "YLCHn9-j5ooT",
        "colab": {
          "base_uri": "https://localhost:8080/"
        },
        "outputId": "961a9d0d-6eb8-45b6-febc-87e5682043a9"
      },
      "source": [],
      "execution_count": 44,
      "outputs": [
        {
          "output_type": "stream",
          "name": "stdout",
          "text": [
            "Accuracy of the model: 0.8161057692307693\n"
          ]
        },
        {
          "output_type": "stream",
          "name": "stderr",
          "text": [
            "/usr/local/lib/python3.10/dist-packages/sklearn/linear_model/_logistic.py:458: ConvergenceWarning: lbfgs failed to converge (status=1):\n",
            "STOP: TOTAL NO. of ITERATIONS REACHED LIMIT.\n",
            "\n",
            "Increase the number of iterations (max_iter) or scale the data as shown in:\n",
            "    https://scikit-learn.org/stable/modules/preprocessing.html\n",
            "Please also refer to the documentation for alternative solver options:\n",
            "    https://scikit-learn.org/stable/modules/linear_model.html#logistic-regression\n",
            "  n_iter_i = _check_optimize_result(\n"
          ]
        }
      ]
    },
    {
      "cell_type": "markdown",
      "metadata": {
        "id": "cUWhJeDpzh7Z"
      },
      "source": [
        "### Evaluation of Test Data\n",
        "* Use the model to predict the labels for the Test data below\n",
        "* Format the test data in the same format as the train data.\n",
        "* Predict it with trained supervised ML model"
      ]
    },
    {
      "cell_type": "code",
      "metadata": {
        "id": "fvfXQ8JNkBZ3",
        "colab": {
          "base_uri": "https://localhost:8080/",
          "height": 143
        },
        "outputId": "95b8ffab-1360-4ed8-fda2-ad37f2a829c9"
      },
      "source": [
        "# Test set provided as below\n",
        "test = pd.read_csv(\"Online_Retail_Test.csv\")\n",
        "test.head(3)"
      ],
      "execution_count": 45,
      "outputs": [
        {
          "output_type": "execute_result",
          "data": {
            "text/plain": [
              "  InvoiceNo StockCode                     Description  Quantity  \\\n",
              "0    555200     71459  HANGING JAM JAR T-LIGHT HOLDER        24   \n",
              "1    554974     21128              GOLD FISHING GNOME         4   \n",
              "2    550972     21086     SET/6 RED SPOTTY PAPER CUPS         4   \n",
              "\n",
              "           InvoiceDate  UnitPrice  CustomerID         Country  \n",
              "0  2011-06-01 12:05:00       0.85     17315.0  United Kingdom  \n",
              "1  2011-05-27 17:14:00       6.95     14031.0  United Kingdom  \n",
              "2  2011-04-21 17:05:00       0.65     14031.0  United Kingdom  "
            ],
            "text/html": [
              "\n",
              "  <div id=\"df-aa2870b1-21cb-4a43-a8e6-718c37f4ad40\" class=\"colab-df-container\">\n",
              "    <div>\n",
              "<style scoped>\n",
              "    .dataframe tbody tr th:only-of-type {\n",
              "        vertical-align: middle;\n",
              "    }\n",
              "\n",
              "    .dataframe tbody tr th {\n",
              "        vertical-align: top;\n",
              "    }\n",
              "\n",
              "    .dataframe thead th {\n",
              "        text-align: right;\n",
              "    }\n",
              "</style>\n",
              "<table border=\"1\" class=\"dataframe\">\n",
              "  <thead>\n",
              "    <tr style=\"text-align: right;\">\n",
              "      <th></th>\n",
              "      <th>InvoiceNo</th>\n",
              "      <th>StockCode</th>\n",
              "      <th>Description</th>\n",
              "      <th>Quantity</th>\n",
              "      <th>InvoiceDate</th>\n",
              "      <th>UnitPrice</th>\n",
              "      <th>CustomerID</th>\n",
              "      <th>Country</th>\n",
              "    </tr>\n",
              "  </thead>\n",
              "  <tbody>\n",
              "    <tr>\n",
              "      <th>0</th>\n",
              "      <td>555200</td>\n",
              "      <td>71459</td>\n",
              "      <td>HANGING JAM JAR T-LIGHT HOLDER</td>\n",
              "      <td>24</td>\n",
              "      <td>2011-06-01 12:05:00</td>\n",
              "      <td>0.85</td>\n",
              "      <td>17315.0</td>\n",
              "      <td>United Kingdom</td>\n",
              "    </tr>\n",
              "    <tr>\n",
              "      <th>1</th>\n",
              "      <td>554974</td>\n",
              "      <td>21128</td>\n",
              "      <td>GOLD FISHING GNOME</td>\n",
              "      <td>4</td>\n",
              "      <td>2011-05-27 17:14:00</td>\n",
              "      <td>6.95</td>\n",
              "      <td>14031.0</td>\n",
              "      <td>United Kingdom</td>\n",
              "    </tr>\n",
              "    <tr>\n",
              "      <th>2</th>\n",
              "      <td>550972</td>\n",
              "      <td>21086</td>\n",
              "      <td>SET/6 RED SPOTTY PAPER CUPS</td>\n",
              "      <td>4</td>\n",
              "      <td>2011-04-21 17:05:00</td>\n",
              "      <td>0.65</td>\n",
              "      <td>14031.0</td>\n",
              "      <td>United Kingdom</td>\n",
              "    </tr>\n",
              "  </tbody>\n",
              "</table>\n",
              "</div>\n",
              "    <div class=\"colab-df-buttons\">\n",
              "\n",
              "  <div class=\"colab-df-container\">\n",
              "    <button class=\"colab-df-convert\" onclick=\"convertToInteractive('df-aa2870b1-21cb-4a43-a8e6-718c37f4ad40')\"\n",
              "            title=\"Convert this dataframe to an interactive table.\"\n",
              "            style=\"display:none;\">\n",
              "\n",
              "  <svg xmlns=\"http://www.w3.org/2000/svg\" height=\"24px\" viewBox=\"0 -960 960 960\">\n",
              "    <path d=\"M120-120v-720h720v720H120Zm60-500h600v-160H180v160Zm220 220h160v-160H400v160Zm0 220h160v-160H400v160ZM180-400h160v-160H180v160Zm440 0h160v-160H620v160ZM180-180h160v-160H180v160Zm440 0h160v-160H620v160Z\"/>\n",
              "  </svg>\n",
              "    </button>\n",
              "\n",
              "  <style>\n",
              "    .colab-df-container {\n",
              "      display:flex;\n",
              "      gap: 12px;\n",
              "    }\n",
              "\n",
              "    .colab-df-convert {\n",
              "      background-color: #E8F0FE;\n",
              "      border: none;\n",
              "      border-radius: 50%;\n",
              "      cursor: pointer;\n",
              "      display: none;\n",
              "      fill: #1967D2;\n",
              "      height: 32px;\n",
              "      padding: 0 0 0 0;\n",
              "      width: 32px;\n",
              "    }\n",
              "\n",
              "    .colab-df-convert:hover {\n",
              "      background-color: #E2EBFA;\n",
              "      box-shadow: 0px 1px 2px rgba(60, 64, 67, 0.3), 0px 1px 3px 1px rgba(60, 64, 67, 0.15);\n",
              "      fill: #174EA6;\n",
              "    }\n",
              "\n",
              "    .colab-df-buttons div {\n",
              "      margin-bottom: 4px;\n",
              "    }\n",
              "\n",
              "    [theme=dark] .colab-df-convert {\n",
              "      background-color: #3B4455;\n",
              "      fill: #D2E3FC;\n",
              "    }\n",
              "\n",
              "    [theme=dark] .colab-df-convert:hover {\n",
              "      background-color: #434B5C;\n",
              "      box-shadow: 0px 1px 3px 1px rgba(0, 0, 0, 0.15);\n",
              "      filter: drop-shadow(0px 1px 2px rgba(0, 0, 0, 0.3));\n",
              "      fill: #FFFFFF;\n",
              "    }\n",
              "  </style>\n",
              "\n",
              "    <script>\n",
              "      const buttonEl =\n",
              "        document.querySelector('#df-aa2870b1-21cb-4a43-a8e6-718c37f4ad40 button.colab-df-convert');\n",
              "      buttonEl.style.display =\n",
              "        google.colab.kernel.accessAllowed ? 'block' : 'none';\n",
              "\n",
              "      async function convertToInteractive(key) {\n",
              "        const element = document.querySelector('#df-aa2870b1-21cb-4a43-a8e6-718c37f4ad40');\n",
              "        const dataTable =\n",
              "          await google.colab.kernel.invokeFunction('convertToInteractive',\n",
              "                                                    [key], {});\n",
              "        if (!dataTable) return;\n",
              "\n",
              "        const docLinkHtml = 'Like what you see? Visit the ' +\n",
              "          '<a target=\"_blank\" href=https://colab.research.google.com/notebooks/data_table.ipynb>data table notebook</a>'\n",
              "          + ' to learn more about interactive tables.';\n",
              "        element.innerHTML = '';\n",
              "        dataTable['output_type'] = 'display_data';\n",
              "        await google.colab.output.renderOutput(dataTable, element);\n",
              "        const docLink = document.createElement('div');\n",
              "        docLink.innerHTML = docLinkHtml;\n",
              "        element.appendChild(docLink);\n",
              "      }\n",
              "    </script>\n",
              "  </div>\n",
              "\n",
              "\n",
              "<div id=\"df-7ab7a073-1ecb-4dd9-a10e-fb1ba9f33c50\">\n",
              "  <button class=\"colab-df-quickchart\" onclick=\"quickchart('df-7ab7a073-1ecb-4dd9-a10e-fb1ba9f33c50')\"\n",
              "            title=\"Suggest charts\"\n",
              "            style=\"display:none;\">\n",
              "\n",
              "<svg xmlns=\"http://www.w3.org/2000/svg\" height=\"24px\"viewBox=\"0 0 24 24\"\n",
              "     width=\"24px\">\n",
              "    <g>\n",
              "        <path d=\"M19 3H5c-1.1 0-2 .9-2 2v14c0 1.1.9 2 2 2h14c1.1 0 2-.9 2-2V5c0-1.1-.9-2-2-2zM9 17H7v-7h2v7zm4 0h-2V7h2v10zm4 0h-2v-4h2v4z\"/>\n",
              "    </g>\n",
              "</svg>\n",
              "  </button>\n",
              "\n",
              "<style>\n",
              "  .colab-df-quickchart {\n",
              "      --bg-color: #E8F0FE;\n",
              "      --fill-color: #1967D2;\n",
              "      --hover-bg-color: #E2EBFA;\n",
              "      --hover-fill-color: #174EA6;\n",
              "      --disabled-fill-color: #AAA;\n",
              "      --disabled-bg-color: #DDD;\n",
              "  }\n",
              "\n",
              "  [theme=dark] .colab-df-quickchart {\n",
              "      --bg-color: #3B4455;\n",
              "      --fill-color: #D2E3FC;\n",
              "      --hover-bg-color: #434B5C;\n",
              "      --hover-fill-color: #FFFFFF;\n",
              "      --disabled-bg-color: #3B4455;\n",
              "      --disabled-fill-color: #666;\n",
              "  }\n",
              "\n",
              "  .colab-df-quickchart {\n",
              "    background-color: var(--bg-color);\n",
              "    border: none;\n",
              "    border-radius: 50%;\n",
              "    cursor: pointer;\n",
              "    display: none;\n",
              "    fill: var(--fill-color);\n",
              "    height: 32px;\n",
              "    padding: 0;\n",
              "    width: 32px;\n",
              "  }\n",
              "\n",
              "  .colab-df-quickchart:hover {\n",
              "    background-color: var(--hover-bg-color);\n",
              "    box-shadow: 0 1px 2px rgba(60, 64, 67, 0.3), 0 1px 3px 1px rgba(60, 64, 67, 0.15);\n",
              "    fill: var(--button-hover-fill-color);\n",
              "  }\n",
              "\n",
              "  .colab-df-quickchart-complete:disabled,\n",
              "  .colab-df-quickchart-complete:disabled:hover {\n",
              "    background-color: var(--disabled-bg-color);\n",
              "    fill: var(--disabled-fill-color);\n",
              "    box-shadow: none;\n",
              "  }\n",
              "\n",
              "  .colab-df-spinner {\n",
              "    border: 2px solid var(--fill-color);\n",
              "    border-color: transparent;\n",
              "    border-bottom-color: var(--fill-color);\n",
              "    animation:\n",
              "      spin 1s steps(1) infinite;\n",
              "  }\n",
              "\n",
              "  @keyframes spin {\n",
              "    0% {\n",
              "      border-color: transparent;\n",
              "      border-bottom-color: var(--fill-color);\n",
              "      border-left-color: var(--fill-color);\n",
              "    }\n",
              "    20% {\n",
              "      border-color: transparent;\n",
              "      border-left-color: var(--fill-color);\n",
              "      border-top-color: var(--fill-color);\n",
              "    }\n",
              "    30% {\n",
              "      border-color: transparent;\n",
              "      border-left-color: var(--fill-color);\n",
              "      border-top-color: var(--fill-color);\n",
              "      border-right-color: var(--fill-color);\n",
              "    }\n",
              "    40% {\n",
              "      border-color: transparent;\n",
              "      border-right-color: var(--fill-color);\n",
              "      border-top-color: var(--fill-color);\n",
              "    }\n",
              "    60% {\n",
              "      border-color: transparent;\n",
              "      border-right-color: var(--fill-color);\n",
              "    }\n",
              "    80% {\n",
              "      border-color: transparent;\n",
              "      border-right-color: var(--fill-color);\n",
              "      border-bottom-color: var(--fill-color);\n",
              "    }\n",
              "    90% {\n",
              "      border-color: transparent;\n",
              "      border-bottom-color: var(--fill-color);\n",
              "    }\n",
              "  }\n",
              "</style>\n",
              "\n",
              "  <script>\n",
              "    async function quickchart(key) {\n",
              "      const quickchartButtonEl =\n",
              "        document.querySelector('#' + key + ' button');\n",
              "      quickchartButtonEl.disabled = true;  // To prevent multiple clicks.\n",
              "      quickchartButtonEl.classList.add('colab-df-spinner');\n",
              "      try {\n",
              "        const charts = await google.colab.kernel.invokeFunction(\n",
              "            'suggestCharts', [key], {});\n",
              "      } catch (error) {\n",
              "        console.error('Error during call to suggestCharts:', error);\n",
              "      }\n",
              "      quickchartButtonEl.classList.remove('colab-df-spinner');\n",
              "      quickchartButtonEl.classList.add('colab-df-quickchart-complete');\n",
              "    }\n",
              "    (() => {\n",
              "      let quickchartButtonEl =\n",
              "        document.querySelector('#df-7ab7a073-1ecb-4dd9-a10e-fb1ba9f33c50 button');\n",
              "      quickchartButtonEl.style.display =\n",
              "        google.colab.kernel.accessAllowed ? 'block' : 'none';\n",
              "    })();\n",
              "  </script>\n",
              "</div>\n",
              "\n",
              "    </div>\n",
              "  </div>\n"
            ],
            "application/vnd.google.colaboratory.intrinsic+json": {
              "type": "dataframe",
              "variable_name": "test",
              "summary": "{\n  \"name\": \"test\",\n  \"rows\": 27096,\n  \"fields\": [\n    {\n      \"column\": \"InvoiceNo\",\n      \"properties\": {\n        \"dtype\": \"category\",\n        \"num_unique_values\": 11040,\n        \"samples\": [\n          \"579136\",\n          \"569141\",\n          \"543188\"\n        ],\n        \"semantic_type\": \"\",\n        \"description\": \"\"\n      }\n    },\n    {\n      \"column\": \"StockCode\",\n      \"properties\": {\n        \"dtype\": \"category\",\n        \"num_unique_values\": 3052,\n        \"samples\": [\n          \"85174\",\n          \"84625A\",\n          \"22910\"\n        ],\n        \"semantic_type\": \"\",\n        \"description\": \"\"\n      }\n    },\n    {\n      \"column\": \"Description\",\n      \"properties\": {\n        \"dtype\": \"category\",\n        \"num_unique_values\": 3097,\n        \"samples\": [\n          \"SWISS CHALET TREE DECORATION \",\n          \"CHILDRENS CUTLERY POLKADOT BLUE\",\n          \"SET OF 4 NAPKIN CHARMS CROWNS \"\n        ],\n        \"semantic_type\": \"\",\n        \"description\": \"\"\n      }\n    },\n    {\n      \"column\": \"Quantity\",\n      \"properties\": {\n        \"dtype\": \"number\",\n        \"std\": 42,\n        \"min\": -2376,\n        \"max\": 2880,\n        \"num_unique_values\": 177,\n        \"samples\": [\n          600,\n          34,\n          33\n        ],\n        \"semantic_type\": \"\",\n        \"description\": \"\"\n      }\n    },\n    {\n      \"column\": \"InvoiceDate\",\n      \"properties\": {\n        \"dtype\": \"object\",\n        \"num_unique_values\": 10554,\n        \"samples\": [\n          \"2011-01-14 09:52:00\",\n          \"2011-10-10 11:14:00\",\n          \"2011-11-22 16:47:00\"\n        ],\n        \"semantic_type\": \"\",\n        \"description\": \"\"\n      }\n    },\n    {\n      \"column\": \"UnitPrice\",\n      \"properties\": {\n        \"dtype\": \"number\",\n        \"std\": 115.68428220681568,\n        \"min\": 0.0,\n        \"max\": 13541.33,\n        \"num_unique_values\": 324,\n        \"samples\": [\n          8.0,\n          0.66,\n          111.73\n        ],\n        \"semantic_type\": \"\",\n        \"description\": \"\"\n      }\n    },\n    {\n      \"column\": \"CustomerID\",\n      \"properties\": {\n        \"dtype\": \"number\",\n        \"std\": 1714.1259117480809,\n        \"min\": 12347.0,\n        \"max\": 18287.0,\n        \"num_unique_values\": 3344,\n        \"samples\": [\n          18270.0,\n          16243.0,\n          17463.0\n        ],\n        \"semantic_type\": \"\",\n        \"description\": \"\"\n      }\n    },\n    {\n      \"column\": \"Country\",\n      \"properties\": {\n        \"dtype\": \"category\",\n        \"num_unique_values\": 36,\n        \"samples\": [\n          \"Lebanon\",\n          \"Austria\",\n          \"Iceland\"\n        ],\n        \"semantic_type\": \"\",\n        \"description\": \"\"\n      }\n    }\n  ]\n}"
            }
          },
          "metadata": {},
          "execution_count": 45
        }
      ]
    },
    {
      "cell_type": "code",
      "metadata": {
        "id": "B4rEobc5FSS_"
      },
      "source": [
        "# Convert categorical variables into numerical format using one-hot encoding (if needed)\n",
        "df_test_encoded = pd.get_dummies(test, columns=['Country'])"
      ],
      "execution_count": 48,
      "outputs": []
    },
    {
      "cell_type": "code",
      "source": [],
      "metadata": {
        "id": "p-cvovxreNdC"
      },
      "execution_count": 50,
      "outputs": []
    },
    {
      "cell_type": "markdown",
      "metadata": {
        "id": "ZAXIXD9S7Jxx"
      },
      "source": [
        "### Report Analysis\n",
        "\n",
        "- Discuss the pros and cons of removing the missing values vs replacing with the mean values\n",
        "- Based on the visualization of clusters, comment on the difference in buying patterns of each cluster\n",
        "- What other methods could be used to determine the optimal no. of clusters?"
      ]
    }
  ]
}
